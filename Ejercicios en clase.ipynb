{
  "cells": [
    {
      "cell_type": "code",
      "source": [],
      "metadata": {
        "id": "7T1_9EWHKh3_"
      },
      "execution_count": null,
      "outputs": []
    },
    {
      "cell_type": "code",
      "source": [],
      "metadata": {
        "id": "hok-sgWgJz0w"
      },
      "execution_count": null,
      "outputs": []
    },
    {
      "cell_type": "markdown",
      "source": [
        "**Try(algo)/Excepto(algo):**\n",
        "El programa ejecuta una operación Valida\n",
        "\n",
        "\n",
        "\n",
        "*   **Break:** Para romper un ciclo\n",
        "*   **Pass:** Permite que una clase o una función vacia se ejecuta\n",
        "*   **None:** Es el valor nada de cualquier estructura de datos\n",
        "\n",
        "\n",
        "\n",
        "\n",
        "\n"
      ],
      "metadata": {
        "id": "3-TyaXP6J0DI"
      }
    },
    {
      "cell_type": "code",
      "source": [
        "#Respuesta pra :v\n",
        "letra=input(\"Ingrese una letra\")\n",
        "num=None\n",
        "for conv in (int,float):\n",
        " try:\n",
        "  num=conv(letra)\n",
        "  break\n",
        " except ValueError:\n",
        "    pass\n",
        " if num==None: print (f\"{letra} es una variable de tipo {type(letra)}\")\n",
        " else: print(f\"{letra} es una variable de tipo {type(num)}\")"
      ],
      "metadata": {
        "id": "ESNtH0VzKm_f",
        "outputId": "efe67da9-c68e-421f-adb1-fda844464925",
        "colab": {
          "base_uri": "https://localhost:8080/"
        }
      },
      "execution_count": 14,
      "outputs": [
        {
          "output_type": "stream",
          "name": "stdout",
          "text": [
            "Ingrese una letra1.1\n",
            "1.1 es una variable de tipo <class 'str'>\n"
          ]
        }
      ]
    },
    {
      "cell_type": "code",
      "source": [
        "a=int(input(\"Ingrese el diviviendo\"))\n",
        "b=int(input(\"Ingrese el divisor\"))\n",
        "try:\n",
        "  division=a/b\n",
        "  print(f\"{a}/{b}={division}\")\n",
        "except ZeroDivisionError:\n",
        "    print(\"Infinito\")"
      ],
      "metadata": {
        "id": "Hoi3gsw9Oxf8",
        "outputId": "3d9dd9e5-4815-4e43-efd7-95c259df130a",
        "colab": {
          "base_uri": "https://localhost:8080/"
        }
      },
      "execution_count": 16,
      "outputs": [
        {
          "output_type": "stream",
          "name": "stdout",
          "text": [
            "Ingrese el diviviendo5\n",
            "Ingrese el divisor0\n",
            "Infinito\n"
          ]
        }
      ]
    },
    {
      "cell_type": "code",
      "source": [
        "a=input(\"Quieres helado?\")\n",
        "a=a[0].lower()\n",
        "if a==\"s\":\n",
        "  f=input(\"Que sabor quieres?\")\n",
        "  if f==\"chocolate\":print(f\"Aqui está su helado de {f}. Me debe 5000\")\n",
        "  elif f==\"Vainilla\":print(f\"Aqui está su helado de {f}. Me debe 4000\")\n",
        "  elif f==\"fresa\":print(f\"Aqui está su helado de {f}. Me debe 10000\")\n",
        "  elif f==\"Ron con pasas\":print(f\"Aqui está su helado de {f}. Me debe 7000\")\n",
        "  else: print(\"Los siento, no tenemos ese sabor\")\n",
        "\n",
        "else:\n",
        "  print(\"Ta bueno...a poco que ni queria\")\n"
      ],
      "metadata": {
        "id": "UrcwWofyP4KL",
        "outputId": "b816276e-703f-4811-a4ac-292a6891a218",
        "colab": {
          "base_uri": "https://localhost:8080/"
        }
      },
      "execution_count": 25,
      "outputs": [
        {
          "output_type": "stream",
          "name": "stdout",
          "text": [
            "Quieres helado?si\n",
            "Que sabor quieres?Vainilla\n",
            "Aqui está su helado de Vainilla. Me debe 4000\n"
          ]
        }
      ]
    },
    {
      "cell_type": "code",
      "source": [
        "a=input(\"Quieres helado?\")\n",
        "a=a[0].lower()\n",
        "if a==\"s\":\n",
        "  f=input(\"Que sabor quieres?\")\n",
        "  match f:\n",
        "    case \"chocolate\":print(f\"Aqui está su helado de {f}. Me debe 5000\")\n",
        "    case \"Vainilla\":print(f\"Aqui está su helado de {f}. Me debe 4000\")\n",
        "    case \"fresa\":print(f\"Aqui está su helado de {f}. Me debe 10000\")\n",
        "    case \"Ron con pasas\":print(f\"Aqui está su helado de {f}. Me debe 7000\")\n",
        "    case _: print(\"Los siento, no tenemos ese sabor\")\n",
        "\n",
        "else:\n",
        "  print(\"Ta bueno...a poco que ni queria\")"
      ],
      "metadata": {
        "id": "RnTiYCzhSmUp",
        "outputId": "dd04f54b-aeaa-4650-be4d-0c00239819b1",
        "colab": {
          "base_uri": "https://localhost:8080/"
        }
      },
      "execution_count": 29,
      "outputs": [
        {
          "output_type": "stream",
          "name": "stdout",
          "text": [
            "Quieres helado?si\n",
            "Que sabor quieres?chocolate\n",
            "Aqui está su helado de chocolate. Me debe 5000\n"
          ]
        }
      ]
    },
    {
      "cell_type": "code",
      "source": [
        "#Match\n",
        "letra=input(\"Ingrese una letra\")\n",
        "match letra:\n",
        "  case \"a\"|\"e\"|\"i\"|\"o\"|\"u\":print(\"Es una vocal minuscula\")\n",
        "  case \"A\"|\"E\"|\"I\"|\"O\"|\"U\":print(\"Es una vocal minuscula\")\n",
        "  case _:print(\"No es una vocal\")"
      ],
      "metadata": {
        "id": "tLbeLWgjWisU",
        "outputId": "d0819435-1382-4115-caaf-daa53c7531af",
        "colab": {
          "base_uri": "https://localhost:8080/"
        }
      },
      "execution_count": 31,
      "outputs": [
        {
          "output_type": "stream",
          "name": "stdout",
          "text": [
            "Ingrese una letrah\n",
            "No es una vocal\n"
          ]
        }
      ]
    },
    {
      "cell_type": "code",
      "source": [
        "#Elif\n",
        "letra=input(\"Ingrese una letra\")\n",
        "if letra in 'aeiou':\n",
        "  print(\"Es una vocal minuscula\")\n",
        "elif letra in 'AEIOU':\n",
        "  print(\"Es una vocal mayuscula\")\n"
      ],
      "metadata": {
        "id": "OimhAISdW7TF",
        "outputId": "efd0c1e8-e941-4e0a-f279-11520db84dde",
        "colab": {
          "base_uri": "https://localhost:8080/"
        }
      },
      "execution_count": 32,
      "outputs": [
        {
          "output_type": "stream",
          "name": "stdout",
          "text": [
            "Ingrese una letraa\n",
            "Es una vocal minuscula\n"
          ]
        }
      ]
    },
    {
      "cell_type": "code",
      "source": [
        "#Elif\n",
        "animales = [\"águila\", \"loro\", \"león\", \"tigre\", \"cocodrilo\", \"pitón\"]\n",
        "\n",
        "for animal in animales:\n",
        "    print(f\"Clasificando: {animal}\")\n",
        "\n",
        "    if animal == \"águila\" or animal == \"loro\":\n",
        "        print(\"Es un ave\")\n",
        "    elif animal == \"león\" or animal == \"tigre\":\n",
        "        print(\"Es un mamífero\")\n",
        "    elif animal == \"cocodrilo\" or animal == \"pitón\":\n",
        "        print(\"Es un reptil\")\n",
        "    else:\n",
        "        print(\"No sé qué tipo de animal es\")\n",
        "\n",
        "    print()"
      ],
      "metadata": {
        "id": "YNo1rZ0vX7Rs",
        "outputId": "5136a9dc-2bca-46c8-cbbb-5a8035cb0127",
        "colab": {
          "base_uri": "https://localhost:8080/"
        }
      },
      "execution_count": 33,
      "outputs": [
        {
          "output_type": "stream",
          "name": "stdout",
          "text": [
            "Clasificando: águila\n",
            "Es un ave\n",
            "\n",
            "Clasificando: loro\n",
            "Es un ave\n",
            "\n",
            "Clasificando: león\n",
            "Es un mamífero\n",
            "\n",
            "Clasificando: tigre\n",
            "Es un mamífero\n",
            "\n",
            "Clasificando: cocodrilo\n",
            "Es un reptil\n",
            "\n",
            "Clasificando: pitón\n",
            "Es un reptil\n",
            "\n"
          ]
        }
      ]
    },
    {
      "cell_type": "code",
      "source": [
        "#Match\n",
        "animales = [\"águila\", \"loro\", \"león\", \"tigre\", \"cocodrilo\", \"pitón\"]\n",
        "\n",
        "for animal in animales:\n",
        "    print(f\"Clasificando: {animal}\")\n",
        "\n",
        "    match animal:\n",
        "        case \"águila\" | \"loro\":\n",
        "            print(\"Es un ave\")\n",
        "        case \"león\" | \"tigre\":\n",
        "            print(\"Es un mamífero\")\n",
        "        case \"cocodrilo\" | \"pitón\":\n",
        "            print(\"Es un reptil\")\n",
        "        case _:\n",
        "            print(\"No sé qué tipo de animal es\")\n",
        "\n",
        "    print()"
      ],
      "metadata": {
        "id": "cn5eBJkAYI09"
      },
      "execution_count": null,
      "outputs": []
    },
    {
      "cell_type": "code",
      "source": [
        "#Ejercicio 1\n",
        "N1 = int(input(\"Ingrese el primer número: \"))\n",
        "N2 = int(input(\"Ingrese el segundo número: \"))\n",
        "N3 = int(input(\"Ingrese el tercer número: \"))\n",
        "N4 = int(input(\"Ingrese el cuarto número: \"))\n",
        "N5 = int(input(\"Ingrese el quinto número: \"))\n",
        "\n",
        "\n",
        "if len(set([N1, N2, N3, N4, N5])) != 5:\n",
        "    print(\"Error: Los números deben ser diferentes.\")\n",
        "else:\n",
        "\n",
        "    if N1 > N2 and N1 > N3 and N1 > N4 and N1 > N5: mayor = N1\n",
        "    elif N2 > N1 and N2 > N3 and N2 > N4 and N2 > N5: mayor = N2\n",
        "    elif N3 > N1 and N3 > N2 and N3 > N4 and N3 > N5: mayor = N3\n",
        "    elif N4 > N1 and N4 > N2 and N4 > N3 and N4 > N5: mayor = N4\n",
        "    else: mayor = N5\n",
        "\n",
        "    print(f\"El número mayor es: {mayor}\")"
      ],
      "metadata": {
        "id": "4bVE90BMZKP8",
        "outputId": "8a1ced21-7503-49e2-9b33-2bd93cc4dc69",
        "colab": {
          "base_uri": "https://localhost:8080/"
        }
      },
      "execution_count": 36,
      "outputs": [
        {
          "output_type": "stream",
          "name": "stdout",
          "text": [
            "Ingrese el primer número: 1\n",
            "Ingrese el segundo número: 2\n",
            "Ingrese el tercer número: 3\n",
            "Ingrese el cuarto número: 7\n",
            "Ingrese el quinto número: 5\n",
            "El número mayor es: 7\n"
          ]
        }
      ]
    },
    {
      "cell_type": "code",
      "source": [
        "#Match\n",
        "N1 = int(input(\"Ingrese el primer número: \"))\n",
        "N2 = int(input(\"Ingrese el segundo número: \"))\n",
        "N3 = int(input(\"Ingrese el tercer número: \"))\n",
        "N4 = int(input(\"Ingrese el cuarto número: \"))\n",
        "N5 = int(input(\"Ingrese el quinto número: \"))\n",
        "\n",
        "if len(set([N1, N2, N3, N4, N5])) != 5:\n",
        "    print(\"Error: Los números deben ser diferentes.\")\n",
        "else:\n",
        "    numeros = [N1, N2, N3, N4, N5]\n",
        "    mayor = max(numeros)\n",
        "\n",
        "    match numeros.index(mayor):\n",
        "        case 0:\n",
        "            print(f\"El número mayor es: {N1}\")\n",
        "        case 1:\n",
        "            print(f\"El número mayor es: {N2}\")\n",
        "        case 2:\n",
        "            print(f\"El número mayor es: {N3}\")\n",
        "        case 3:\n",
        "            print(f\"El número mayor es: {N4}\")\n",
        "        case 4:\n",
        "            print(f\"El número mayor es: {N5}\")"
      ],
      "metadata": {
        "id": "tJ6kgvpObRSb",
        "outputId": "c10f9859-9b29-46fc-e6d6-fc3a7eedb0d9",
        "colab": {
          "base_uri": "https://localhost:8080/"
        }
      },
      "execution_count": 37,
      "outputs": [
        {
          "output_type": "stream",
          "name": "stdout",
          "text": [
            "Ingrese el primer número: 8\n",
            "Ingrese el segundo número: 4\n",
            "Ingrese el tercer número: 2\n",
            "Ingrese el cuarto número: 5\n",
            "Ingrese el quinto número: 8\n",
            "Error: Los números deben ser diferentes.\n"
          ]
        }
      ]
    },
    {
      "cell_type": "code",
      "source": [
        "#Elif\n",
        "número = int(input(\"Por favor, ingrese un número entre 0 y 9: \"))\n",
        "\n",
        "if número < 0 or número > 9:\n",
        "    print(\"El número no pertenece al rango 0-9\")\n",
        "elif número % 2 == 0:\n",
        "    print(\"El número es par\")\n",
        "else:\n",
        "    print(\"El número es impar\")"
      ],
      "metadata": {
        "id": "yCGMIcwAdouZ",
        "outputId": "572f3602-4c6e-4fac-8bf1-33fe463c03d8",
        "colab": {
          "base_uri": "https://localhost:8080/"
        }
      },
      "execution_count": 46,
      "outputs": [
        {
          "output_type": "stream",
          "name": "stdout",
          "text": [
            "Por favor, ingrese un número entre 0 y 9: 8\n",
            "El número es par\n"
          ]
        }
      ]
    },
    {
      "cell_type": "code",
      "source": [
        "#Match\n",
        "número = int(input(\"Por favor, ingrese un número entre 0 y 9: \"))\n",
        "\n",
        "match número:\n",
        "    case n if n < 0 or n > 9:\n",
        "        print(\"El número no pertenece al rango 0-9\")\n",
        "    case n if n % 2 == 0:\n",
        "        print(\"El número es par\")\n",
        "    case _:\n",
        "        print(\"El número es impar\")"
      ],
      "metadata": {
        "id": "w_wYuk7meDKY",
        "outputId": "27635f13-c6e9-4513-c454-93a383bfe515",
        "colab": {
          "base_uri": "https://localhost:8080/"
        }
      },
      "execution_count": 47,
      "outputs": [
        {
          "output_type": "stream",
          "name": "stdout",
          "text": [
            "Por favor, ingrese un número entre 0 y 9: 7\n",
            "El número es impar\n"
          ]
        }
      ]
    },
    {
      "cell_type": "code",
      "source": [
        "#match\n",
        "letra=input(\"Ingrese una letra\")\n",
        "\n",
        "match letra:\n",
        "   case \"a\"|\"e\"|\"i\"|\"o\"|\"u\":\n",
        "     print(\"Es una vocal miniscula\")\n",
        "   case \"A\"|\"E\"|\"I\"|\"O\"|\"U\":\n",
        "    print(\"Es una vocal mayusula\")\n",
        "   case _:\n",
        "    print(\"No es una vocal\")"
      ],
      "metadata": {
        "id": "HwBgHfmfhQNt",
        "outputId": "024ff164-13eb-4667-ae77-a4ec7d75fc61",
        "colab": {
          "base_uri": "https://localhost:8080/"
        }
      },
      "execution_count": 51,
      "outputs": [
        {
          "output_type": "stream",
          "name": "stdout",
          "text": [
            "Ingrese una letrah\n",
            "No es una vocal\n"
          ]
        }
      ]
    },
    {
      "cell_type": "code",
      "source": [
        "#Elif\n",
        "letra=input(\"Ingrese una letra\")\n",
        "if letra in 'aeiou':\n",
        "  print(\"Es una vocal minuscula\")\n",
        "elif letra in 'AEIOU':\n",
        "  print(\"es una vocal mayuscula\")\n",
        "else:\n",
        "  print(\"No es una vocal\")"
      ],
      "metadata": {
        "id": "eo3WYv1MhdNu",
        "outputId": "0b0ef08c-185b-49c1-a959-a973495ba941",
        "colab": {
          "base_uri": "https://localhost:8080/"
        }
      },
      "execution_count": 52,
      "outputs": [
        {
          "output_type": "stream",
          "name": "stdout",
          "text": [
            "Ingrese una letrao\n",
            "Es una vocal minuscula\n"
          ]
        }
      ]
    }
  ],
  "metadata": {
    "colab": {
      "name": "Te damos la bienvenida a Colaboratory",
      "toc_visible": true,
      "provenance": []
    },
    "kernelspec": {
      "display_name": "Python 3",
      "name": "python3"
    }
  },
  "nbformat": 4,
  "nbformat_minor": 0
}