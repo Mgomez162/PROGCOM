{
  "cells": [
    {
      "cell_type": "markdown",
      "metadata": {
        "id": "LMTngmL8WTCH"
      },
      "source": [
        "# Listado de Ejercicios a realizar"
      ]
    },
    {
      "cell_type": "markdown",
      "metadata": {
        "id": "o1F8rAPeWTCI"
      },
      "source": [
        "## 1. Sin usar el computador, evalúe las siguientes expresiones, y para cada una de ellas indique el resultado y su tipo (si la expresión es válida) o qué error ocurre:\n",
        "\n",
        "### Ejemplo\n",
        "- 2 + 3      # Respuesta: tipo int, valor 5\n",
        "- 4 / 0      # Respuesta: error de división por cero\n",
        "\n",
        "### Ejercicio\n",
        "\n",
        "- 5 + 3 * 4: 17\n",
        "- '5' + '3' * 2\n",
        "- 2 ** 11 == 1000 or 2 ** 9 == 100\n",
        "- int(\"cincuenta\")\n",
        "- 16/16 + 384/24\n",
        "- 600 + 18%\n",
        "- 0 < (4096 % 10) < 6\n",
        "- 'Max' + 'Min'\n",
        "- ABC() * DEF()\n",
        "- float(-int(\"7\")+int('90))\n",
        "- abs(len('seis') - len('tres'))\n",
        "- bool(1210) or bool(-3465)\n",
        "- float(str(int('8' * 3) / 3)[3])"
      ]
    },
    {
      "cell_type": "markdown",
      "metadata": {
        "id": "3ypbOL-AWTCI"
      },
      "source": [
        "#Respuesta\n"
      ]
    },
    {
      "cell_type": "markdown",
      "metadata": {
        "id": "hTD-ALkgWTCI"
      },
      "source": [
        "# 2. Imprima su nombre y fecha\n",
        "- Imprime: Jorge Alvarez - 20-04-2020"
      ]
    },
    {
      "cell_type": "code",
      "execution_count": 3,
      "metadata": {
        "id": "Tgol0HqEWTCJ",
        "colab": {
          "base_uri": "https://localhost:8080/"
        },
        "outputId": "14d4edd2-2282-4ee1-89cf-b2a38782d213"
      },
      "outputs": [
        {
          "output_type": "stream",
          "name": "stdout",
          "text": [
            "Jorge Alvarez-20/04/2020\n"
          ]
        }
      ],
      "source": [
        "print('Jorge Alvarez-20/04/2020')\n"
      ]
    },
    {
      "cell_type": "markdown",
      "metadata": {
        "id": "ayG30b-MWTCJ"
      },
      "source": [
        "# 3. Solicite un nombre y que el programa salude\n",
        "### Ejemplo:\n",
        "- ingreso: 'Andres'\n",
        "- imprime: 'Hola Andres'"
      ]
    },
    {
      "cell_type": "code",
      "execution_count": 12,
      "metadata": {
        "id": "wiapNAn4WTCJ",
        "colab": {
          "base_uri": "https://localhost:8080/"
        },
        "outputId": "6ad044c1-bc96-4043-efdc-3ad39c712d8e"
      },
      "outputs": [
        {
          "output_type": "stream",
          "name": "stdout",
          "text": [
            "Hola, cómo te llamas: Andres\n",
            "Hola Andres\n"
          ]
        }
      ],
      "source": [
        "nombre = \"\"\n",
        "nombre = input(\"Hola, cómo te llamas: \")\n",
        "print(f\"Hola {nombre}\")"
      ]
    },
    {
      "cell_type": "markdown",
      "metadata": {
        "id": "CYn33iniWTCK"
      },
      "source": [
        "# 4. Solicite el radio (un numero) de un círculo e imprima como salida su diámetro, perímetro y su área\n",
        "### Ejemplo\n",
        "- ingreso: 3\n",
        "- imprime - Diametro: 6\n",
        "- imprime - Perimetro: 18.84\n",
        "- imprime - Area: 28.27"
      ]
    },
    {
      "cell_type": "code",
      "execution_count": 14,
      "metadata": {
        "id": "QR3TreJqWTCK",
        "colab": {
          "base_uri": "https://localhost:8080/"
        },
        "outputId": "5653bd24-1a62-4ff6-b74b-edc302619ea7"
      },
      "outputs": [
        {
          "output_type": "stream",
          "name": "stdout",
          "text": [
            "Ingrese el radio del círculo: 3\n",
            "Diámetro: 6.00\n",
            "Perímetro: 18.85\n",
            "Área: 28.27\n"
          ]
        }
      ],
      "source": [
        "import math\n",
        "\n",
        "radio = float(input(\"Ingrese el radio del círculo: \"))\n",
        "\n",
        "D = 2 * radio\n",
        "P= 2 * math.pi * radio\n",
        "A = math.pi * radio ** 2\n",
        "\n",
        "print(f\"Diámetro: {D:.2f}\")\n",
        "print(f\"Perímetro: {P:.2f}\")\n",
        "print(f\"Área: {A:.2f}\")"
      ]
    },
    {
      "cell_type": "markdown",
      "metadata": {
        "id": "CnJUFicqWTCK"
      },
      "source": [
        "# 5. Solicite 6 notas y calcule el promedio de ellas\n",
        "### Ejemplo\n",
        "- ingreso: 1 2 3 4 5 6\n",
        "- imprime: 3.5"
      ]
    },
    {
      "cell_type": "code",
      "execution_count": 20,
      "metadata": {
        "id": "w4INhZgOWTCK",
        "colab": {
          "base_uri": "https://localhost:8080/"
        },
        "outputId": "4c584205-9dc7-4f61-d088-2e2f489b9066"
      },
      "outputs": [
        {
          "output_type": "stream",
          "name": "stdout",
          "text": [
            "Ingrese su nota 1: 1\n",
            "Ingrese su nota 2: 2\n",
            "Ingrese su nota 3: 3\n",
            "Ingrese su nota 4: 4\n",
            "Ingrese su nota 5: 5\n",
            "Ingrese su nota 6: 6\n",
            "El promedio es: 3.50\n"
          ]
        }
      ],
      "source": [
        "\n",
        "N = []\n",
        "\n",
        "for i in range(6):\n",
        "    nota = float(input(f\"Ingrese su nota {i+1}: \"))\n",
        "    N.append(nota)\n",
        "\n",
        "P = sum(N) / len(N)\n",
        "\n",
        "print(f\"El promedio es: {P:.2f}\")\n"
      ]
    },
    {
      "cell_type": "markdown",
      "metadata": {
        "id": "9uGS-7dkWTCK"
      },
      "source": [
        "# 6. Solicite un valor e imprima que tipo de dato es\n",
        "### Ejemplo\n",
        "- ingreso: 'A'\n",
        "- imprime: str\n",
        "- ingreso: 1\n",
        "- imprime: int"
      ]
    },
    {
      "cell_type": "code",
      "execution_count": null,
      "metadata": {
        "id": "qW2J1DjwWTCK"
      },
      "outputs": [],
      "source": [
        "# Respuesta:\n"
      ]
    },
    {
      "cell_type": "markdown",
      "metadata": {
        "id": "DwYtzwPKWTCK"
      },
      "source": [
        "# 7. Escriba en código la siguiente ecuación\n",
        "$$ \\left(\\frac{5+3}{3-2}\\right)^2$$"
      ]
    },
    {
      "cell_type": "code",
      "source": [
        "resultado = ((5 + 3) / (3 - 2)) ** 2\n",
        "print(resultado)"
      ],
      "metadata": {
        "id": "HNgU-6C1Yguq",
        "colab": {
          "base_uri": "https://localhost:8080/"
        },
        "outputId": "91908214-15ab-4abc-b10a-2f100ac9881f"
      },
      "execution_count": 15,
      "outputs": [
        {
          "output_type": "stream",
          "name": "stdout",
          "text": [
            "64.0\n"
          ]
        }
      ]
    },
    {
      "cell_type": "markdown",
      "metadata": {
        "id": "9U9cBSCtWTCL"
      },
      "source": [
        "# 8. Solicite número de horas trabajadas y coste por horas e imprima el valor\n",
        "### Ejemplo:\n",
        "- Ingreso: 4 (horas)\n",
        "- ingreso: 80.000 (precio x hora)\n",
        "- imprime: 320.000"
      ]
    },
    {
      "cell_type": "code",
      "execution_count": 21,
      "metadata": {
        "id": "x-dT-cLeWTCL",
        "colab": {
          "base_uri": "https://localhost:8080/"
        },
        "outputId": "a302f78d-68c9-434e-c622-001f4b34165e"
      },
      "outputs": [
        {
          "output_type": "stream",
          "name": "stdout",
          "text": [
            "Ingrese  horas trabajadas: 4\n",
            "Ingrese el valor por hora: 80000\n",
            "El valor total es: 320000.000\n"
          ]
        }
      ],
      "source": [
        "horas = float(input(\"Ingrese  horas trabajadas: \"))\n",
        "\n",
        "valor_por_hora = float(input(\"Ingrese el valor por hora: \"))\n",
        "\n",
        "valor_total = horas * valor_por_hora\n",
        "\n",
        "print(f\"El valor total es: {valor_total:.3f}\")"
      ]
    },
    {
      "cell_type": "markdown",
      "metadata": {
        "id": "zyktCgr5WTCL"
      },
      "source": [
        "# 9. Solicite la temperatura en grados Celsius e imprima en grados Kelvin y Fahrenheit\n",
        "### Ejemplo:\n",
        "- ingreso: 38 (°C)\n",
        "- imprime: 311.15 °K\n",
        "- imprime: 100.4 °F"
      ]
    },
    {
      "cell_type": "code",
      "execution_count": null,
      "metadata": {
        "id": "-ydgy_YwWTCL"
      },
      "outputs": [],
      "source": [
        "C=float(input(\"Ingresa la temperatura en grados Celsius: \"))\n",
        "K= C+273.15\n",
        "F = (C * 9/5) + 32\n",
        "if K < 0:\n",
        "  print(\"La temperatuura en kelvin no puede ser menor a 0\")\n",
        "else:\n",
        "  print(f\"La temperatura en kelvin es: {K}\")\n",
        "\n",
        "\n",
        "print(f\"La temperatura en fahrenheit es: {F}\")\n"
      ]
    },
    {
      "cell_type": "markdown",
      "metadata": {
        "id": "uos8PvG9WTCL"
      },
      "source": [
        "# 10. Solicite 2 numeros e imprima si el segundo es mayor  \n",
        "### Ejemplo:\n",
        "- ingreso: 2\n",
        "- ingreso: 3\n",
        "- impmrime: True"
      ]
    },
    {
      "cell_type": "code",
      "execution_count": 23,
      "metadata": {
        "id": "cVxmGhPVWTCL",
        "colab": {
          "base_uri": "https://localhost:8080/"
        },
        "outputId": "b16ab85c-e977-4efa-f714-598f6890fbf9"
      },
      "outputs": [
        {
          "output_type": "stream",
          "name": "stdout",
          "text": [
            "Ingrese el número: 8\n",
            "Ingrese el número: 5\n",
            "False\n"
          ]
        }
      ],
      "source": [
        "\n",
        "N1 = float(input(\"Ingrese el número: \"))\n",
        "N2 = float(input(\"Ingrese el número: \"))\n",
        "\n",
        "es_mayor = N2 > N1\n",
        "print(es_mayor)\n"
      ]
    },
    {
      "cell_type": "markdown",
      "metadata": {
        "id": "wnBR7YdPWTCL"
      },
      "source": [
        "# 11. Solicite 2 numeros e imprima si el segundo es menor  \n",
        "### Ejemplo:\n",
        "- ingreso: 2\n",
        "- ingreso: 3\n",
        "- impmrime: False"
      ]
    },
    {
      "cell_type": "code",
      "execution_count": 25,
      "metadata": {
        "id": "9T9-iqzgWTCL",
        "colab": {
          "base_uri": "https://localhost:8080/"
        },
        "outputId": "9f0cbfcd-9b78-4829-9d6b-0630c6d30fdf"
      },
      "outputs": [
        {
          "output_type": "stream",
          "name": "stdout",
          "text": [
            "Ingrese el número: 15\n",
            "Ingrese el número: 23\n",
            "False\n"
          ]
        }
      ],
      "source": [
        "N1 = float(input(\"Ingrese el número: \"))\n",
        "N2 = float(input(\"Ingrese el número: \"))\n",
        "\n",
        "es_mayor = N2 < N1\n",
        "print(es_mayor)\n"
      ]
    },
    {
      "cell_type": "markdown",
      "metadata": {
        "id": "X3JU40SNWTCL"
      },
      "source": [
        "# 12. Solicite una distancia (metros) y la velocidad (metros/segundos) e imprima el tiempo que se demora el recorrido\n",
        "### Ejemplo:\n",
        "- ingreso: 150 (metros)\n",
        "- ingreso: 15 (metros/segundo)\n",
        "- Imprime: 10 segundos"
      ]
    },
    {
      "cell_type": "code",
      "execution_count": 27,
      "metadata": {
        "id": "Q04rEmU9WTCL",
        "colab": {
          "base_uri": "https://localhost:8080/"
        },
        "outputId": "8ff20f06-6345-4e8f-9afd-ab0ecc4c3e4e"
      },
      "outputs": [
        {
          "output_type": "stream",
          "name": "stdout",
          "text": [
            "Ingrese la distancia en metros: 150\n",
            "Ingrese la velocidad en metros por segundo: 15\n",
            "El tiempo que demora el recorrido es de: 10.0 s \n"
          ]
        }
      ],
      "source": [
        "Distancia=float(input(\"Ingrese la distancia en metros: \"))\n",
        "Velocidad = float(input(\"Ingrese la velocidad en metros por segundo: \"))\n",
        "\n",
        "t=Distancia/Velocidad\n",
        "\n",
        "print(f\"El tiempo que demora el recorrido es de: {t} s \")\n",
        "\n"
      ]
    },
    {
      "cell_type": "markdown",
      "metadata": {
        "id": "_8l0zJ0OWTCM"
      },
      "source": [
        "# 13. Solicite al usuario tres valores y escriba en código la siguiente ecuación\n",
        "$$ \\left(\\frac{a+b}{c}\\right) ^2 + \\left(\\frac{a-b}{c}\\right) ^ 2 $$"
      ]
    },
    {
      "cell_type": "code",
      "execution_count": null,
      "metadata": {
        "id": "35NzqYV8WTCM"
      },
      "outputs": [],
      "source": [
        "a = float(input(\"Ingrese el valor de a: \"))\n",
        "b = float(input(\"Ingrese el valor de b: \"))\n",
        "c = float(input(\"Ingrese el valor de c: \"))\n",
        "resultado = ((a + b) / c) ** 2 + ((a - b) / c) ** 2\n",
        "print(f\"El resultado de la ecuación es: {resultado}\")"
      ]
    },
    {
      "cell_type": "markdown",
      "metadata": {
        "id": "KpLmK4psWTCM"
      },
      "source": [
        "# 14. Investigue como se saca la raíz cuadrada de un número en Python y escriba la solución en el cuadro de abajo"
      ]
    },
    {
      "cell_type": "code",
      "execution_count": null,
      "metadata": {
        "id": "hmB61u9KWTCM"
      },
      "outputs": [],
      "source": [
        "# Respuesta\n"
      ]
    },
    {
      "cell_type": "markdown",
      "metadata": {
        "id": "uDskyR69WTCM"
      },
      "source": [
        "# 15.  Con lo anterior solicite 2 numeros (Cateto a y Cateto b) e imprima la hipotenusa.\n",
        "### Ejemplo:\n",
        "- ingreso: 3 (Cateto a)\n",
        "- ingreso: 4 (Cateto b)\n",
        "- imprime: Hipotenusa = 5"
      ]
    },
    {
      "cell_type": "code",
      "execution_count": null,
      "metadata": {
        "id": "TmahDtWwWTCM"
      },
      "outputs": [],
      "source": [
        "# Respuesta\n"
      ]
    },
    {
      "cell_type": "code",
      "execution_count": null,
      "metadata": {
        "id": "LIUNj3nmWTCM"
      },
      "outputs": [],
      "source": []
    }
  ],
  "metadata": {
    "kernelspec": {
      "display_name": "Python 3",
      "language": "python",
      "name": "python3"
    },
    "language_info": {
      "codemirror_mode": {
        "name": "ipython",
        "version": 3
      },
      "file_extension": ".py",
      "mimetype": "text/x-python",
      "name": "python",
      "nbconvert_exporter": "python",
      "pygments_lexer": "ipython3",
      "version": "3.8.5"
    },
    "colab": {
      "provenance": []
    }
  },
  "nbformat": 4,
  "nbformat_minor": 0
}