{
  "nbformat": 4,
  "nbformat_minor": 0,
  "metadata": {
    "colab": {
      "provenance": []
    },
    "kernelspec": {
      "name": "python3",
      "display_name": "Python 3"
    },
    "language_info": {
      "name": "python"
    }
  },
  "cells": [
    {
      "cell_type": "markdown",
      "source": [
        "\n",
        "##Estructura de selección\n",
        "\n",
        "1. si-no\n",
        "2. operadores-terniario\n",
        "3. Estructura switch\n",
        "\n",
        "\n",
        "*   If/Elif/Else\n",
        "*   Match-case\n",
        "\n"
      ],
      "metadata": {
        "id": "8KB6FDE1LZRs"
      }
    },
    {
      "cell_type": "code",
      "source": [
        "#Las do variables no eran iguales (Respuesta-respuesta)\n",
        "#Las variables se escriben en minúscula\n",
        "#if y else van en minúscula\n",
        "respuesta=input(\"Deseas aprender a programar?\").capitalize()\n",
        "if respuesta==\"si\":\n",
        "  #Estamos dentro del si\n",
        "  print( \"Empieza a hacer ejercicios\")\n",
        "  else\n",
        "  #Estamos dentro del sino\n",
        "  print(\"reconsidéralo\")"
      ],
      "metadata": {
        "id": "zxr6_RUWLd3c"
      },
      "execution_count": null,
      "outputs": []
    },
    {
      "cell_type": "code",
      "execution_count": 7,
      "metadata": {
        "colab": {
          "base_uri": "https://localhost:8080/"
        },
        "id": "Q2zvRNUYHV8V",
        "outputId": "48b450a8-1d2a-4534-f228-79143a515a4a"
      },
      "outputs": [
        {
          "name": "stdout",
          "output_type": "stream",
          "text": [
            "Ingrese su número5\n",
            "Ingrse otro número8\n",
            "Ingrese otro número6\n"
          ]
        }
      ],
      "source": [
        "n=int(input(\"Ingrese su número\"))\n",
        "m=int(input(\"Ingrse otro número\"))\n",
        "x=int(input(\"Ingrese otro número\"))\n"
      ]
    },
    {
      "cell_type": "code",
      "source": [
        "if x>n and x<=m:\n",
        "  print(f\"el número {x} es mayor que {n} y menor o igual que {m}\")\n",
        "else:\n",
        "    print(f\"el número {x} no es mayor que {n} y menor o igual que {m}\")"
      ],
      "metadata": {
        "colab": {
          "base_uri": "https://localhost:8080/"
        },
        "id": "BMTo_BQvIz_W",
        "outputId": "2a5e889d-0cf6-4aac-af90-ef8b5b8fd831"
      },
      "execution_count": 10,
      "outputs": [
        {
          "output_type": "stream",
          "name": "stdout",
          "text": [
            "el número 16 no es mayor que 5 y menor o igual que 8\n"
          ]
        }
      ]
    },
    {
      "cell_type": "code",
      "source": [
        "x = int(input(\"Ingrese otro numero: \"))\n",
        "if x > n and x <= m:\n",
        "    print(f\"El número {x} es mayor que {n} y menor o igual que {m}\")\n",
        "elif x > n and not x <= m:\n",
        "    print(f\"El número {x} es mayor que {n} pero no es menor o igual que {m}\")\n",
        "elif not x > n and x <= m:\n",
        "    print(f\"El número {x} no es mayor que {n} pero es menor o igual que {m}\")\n"
      ],
      "metadata": {
        "colab": {
          "base_uri": "https://localhost:8080/"
        },
        "id": "5CUYN2Q_NV8i",
        "outputId": "14133bc6-e5eb-4bba-a652-57838aba937b"
      },
      "execution_count": 13,
      "outputs": [
        {
          "output_type": "stream",
          "name": "stdout",
          "text": [
            "Ingrese otro numero: 16\n",
            "El número 16 es mayor que 5 pero no es menor o igual que 8\n"
          ]
        }
      ]
    },
    {
      "cell_type": "code",
      "source": [
        "#Definir si una letra es m o no\n",
        "letra=input(\"Ingrese una letra:\").lower()\n",
        "if letra==\"m\":\n",
        "  print(\"Ingresaste una m\")\n",
        "else: print(\"No ingresaste una m\")"
      ],
      "metadata": {
        "colab": {
          "base_uri": "https://localhost:8080/"
        },
        "id": "qhumjlZvPTOR",
        "outputId": "a2ac4d9b-2eb2-4dcb-c9d3-06d8e6f916a0"
      },
      "execution_count": 18,
      "outputs": [
        {
          "output_type": "stream",
          "name": "stdout",
          "text": [
            "Ingrese una letra:m\n",
            "Ingresaste una m\n"
          ]
        }
      ]
    },
    {
      "cell_type": "code",
      "source": [
        "#Resta en 1 una variable si es menor que 5\n",
        "numero= int(input(\"Ingrese un número\"))\n",
        "if numero<5: print(f\"el nuevo número es {numero-1}\")\n",
        "else: print(\"como el numero es menor que 5, se mantiene.\")"
      ],
      "metadata": {
        "colab": {
          "base_uri": "https://localhost:8080/"
        },
        "id": "jsMFRIAlQIxg",
        "outputId": "6ed68ca9-70ee-4a29-edef-af516c829f7c"
      },
      "execution_count": 20,
      "outputs": [
        {
          "output_type": "stream",
          "name": "stdout",
          "text": [
            "Ingrese un número10\n",
            "como el numero es menor que 5, se mantiene.\n"
          ]
        }
      ]
    },
    {
      "cell_type": "code",
      "source": [
        "#1. Dividir dos números siempre y cuando el denomidaro sea 0\n",
        "\n",
        "def division_segura():\n",
        "    numerador = float(input(\"Ingrese el numerador: \"))\n",
        "    denominador = float(input(\"Ingrese el denominador: \"))\n",
        "\n",
        "    if denominador == 0:\n",
        "        print(\"Error: no se puede dividir entre cero.\")\n",
        "        return None\n",
        "    else:\n",
        "        resultado = numerador / denominador\n",
        "        return resultado\n",
        "\n",
        "resultado = division_segura()\n",
        "if resultado is not None:\n",
        "    print(f\"El resultado de la división es: {resultado}\")\n"
      ],
      "metadata": {
        "colab": {
          "base_uri": "https://localhost:8080/"
        },
        "id": "m6AvOKuiRu_v",
        "outputId": "e38faccb-bcef-4172-f304-4873667351f1"
      },
      "execution_count": 35,
      "outputs": [
        {
          "output_type": "stream",
          "name": "stdout",
          "text": [
            "Ingrese el numerador: 20\n",
            "Ingrese el denominador: 0\n",
            "Error: no se puede dividir entre cero.\n"
          ]
        }
      ]
    },
    {
      "cell_type": "code",
      "source": [
        "#2 Definir si un número es mayor que 5 y menor a 15\n",
        "def es_entre_5_y_15(numero):\n",
        "    if numero > 5 and numero < 15:\n",
        "        return True\n",
        "    else:\n",
        "        return False\n",
        "numero = float(input(\"Ingrese un número: \"))\n",
        "\n",
        "if es_entre_5_y_15(numero):\n",
        "    print(f\"El número {numero} está entre 5 y 15.\")\n",
        "else:\n",
        "    print(f\"El número {numero} no está entre 5 y 15.\")"
      ],
      "metadata": {
        "colab": {
          "base_uri": "https://localhost:8080/"
        },
        "id": "R0x8-Z-wUc6_",
        "outputId": "7d94ecb3-036b-47ed-be76-b9996c11485e"
      },
      "execution_count": 38,
      "outputs": [
        {
          "output_type": "stream",
          "name": "stdout",
          "text": [
            "Ingrese un número: 10\n",
            "El número 10.0 está entre 5 y 15.\n"
          ]
        }
      ]
    },
    {
      "cell_type": "code",
      "source": [
        "#5. Verificar si un muero es par o impar\n",
        "def es_par_o_impar(numero):\n",
        "    if numero % 2 == 0:\n",
        "        return \"par\"\n",
        "    else:\n",
        "        return \"impar\"\n",
        "numero = int(input(\"Ingrese un número: \"))\n",
        "\n",
        "resultado = es_par_o_impar(numero)\n",
        "print(f\"El número {numero} es {resultado}.\")"
      ],
      "metadata": {
        "colab": {
          "base_uri": "https://localhost:8080/"
        },
        "id": "nqnOkMt7VLXO",
        "outputId": "429d8427-527e-429c-9805-138cc6b1381b"
      },
      "execution_count": 40,
      "outputs": [
        {
          "output_type": "stream",
          "name": "stdout",
          "text": [
            "Ingrese un número: 7\n",
            "El número 7 es impar.\n"
          ]
        }
      ]
    },
    {
      "cell_type": "code",
      "source": [
        "respuesta=input(\"Deseas aprender a programar\").capitalize()\n",
        "print(\"Empieza a hacer ejercicios\") if respuesta==\"si\" else print(\"Reconsidéralo\")"
      ],
      "metadata": {
        "colab": {
          "base_uri": "https://localhost:8080/"
        },
        "id": "b-h_Vbf5W91k",
        "outputId": "8b297665-ba44-491e-e02e-ea1bc0733eff"
      },
      "execution_count": 43,
      "outputs": [
        {
          "output_type": "stream",
          "name": "stdout",
          "text": [
            "Deseas aprender a programarsi\n",
            "Reconsidéralo\n"
          ]
        }
      ]
    },
    {
      "cell_type": "markdown",
      "source": [
        "##Operador terniario\n",
        "1. Accion si se cumple la condición\n",
        "2. La condición  \n",
        "3. else\n",
        "4. Acción si no se cumple la condición\n",
        "1-2-3-4"
      ],
      "metadata": {
        "id": "Xm5gCZIsXZa7"
      }
    },
    {
      "cell_type": "code",
      "source": [
        "b=\"Ingresaste una m\" if letra ==\"m\": or leta ==\"M\": else \"No ingresaste una m\""
      ],
      "metadata": {
        "id": "ZyavCTiWXY6z"
      },
      "execution_count": null,
      "outputs": []
    },
    {
      "cell_type": "code",
      "source": [
        "#1 Dividir dos números siempre y cuando el denominador sea 0\n",
        "def division_segura():\n",
        "    numerador = float(input(\"Ingrese el numerador: \"))\n",
        "    denominador = float(input(\"Ingrese el denominador: \"))\n",
        "\n",
        "    resultado = numerador / denominador if denominador != 0 else None\n",
        "\n",
        "    if resultado is not None:\n",
        "        print(f\"El resultado es: {resultado}\")\n",
        "    else:\n",
        "        print(\"no se puede dividir entre cero.\")\n",
        "\n",
        "division_segura()"
      ],
      "metadata": {
        "colab": {
          "base_uri": "https://localhost:8080/"
        },
        "id": "k3owKfrsYiS7",
        "outputId": "935efb10-9bd9-4eed-9b3c-00bbf366be88"
      },
      "execution_count": 46,
      "outputs": [
        {
          "output_type": "stream",
          "name": "stdout",
          "text": [
            "Ingrese el numerador: 8\n",
            "Ingrese el denominador: 2\n",
            "El resultado es: 4.0\n"
          ]
        }
      ]
    },
    {
      "cell_type": "code",
      "source": [
        "#2 Definir si un número es mayor que 5 y menor que 15\n",
        "def es_entre_5_y_15(numero):\n",
        "    return \"Sí\" if numero > 5 and numero < 15 else \"No\"\n",
        "\n",
        "numero = float(input(\"Ingrese un número: \"))\n",
        "\n",
        "resultado = es_entre_5_y_15(numero)\n",
        "print(f\"¿El número {numero} está entre 5 y 15?\")\n",
        "print ({resultado})"
      ],
      "metadata": {
        "colab": {
          "base_uri": "https://localhost:8080/"
        },
        "id": "gfDA_sI0ZJHb",
        "outputId": "ffc092c5-ae6f-4871-d64f-ba266d8f8762"
      },
      "execution_count": 50,
      "outputs": [
        {
          "output_type": "stream",
          "name": "stdout",
          "text": [
            "Ingrese un número: 3\n",
            "¿El número 3.0 está entre 5 y 15?\n",
            "{'No'}\n"
          ]
        }
      ]
    },
    {
      "cell_type": "code",
      "source": [
        "#5. Verificar si un muero es par o impar\n",
        "def es_par_o_impar(numero):\n",
        "    return \"par\" if numero % 2 == 0 else \"impar\"\n",
        "\n",
        "numero = int(input(\"Ingrese un número: \"))\n",
        "resultado = es_par_o_impar(numero)\n",
        "print(f\"El número {numero} es {resultado}.\")\n"
      ],
      "metadata": {
        "colab": {
          "base_uri": "https://localhost:8080/"
        },
        "id": "lXEn8XogaK4x",
        "outputId": "2f6ef23f-2961-4bb1-9e78-18e8da29cc9e"
      },
      "execution_count": 52,
      "outputs": [
        {
          "output_type": "stream",
          "name": "stdout",
          "text": [
            "Ingrese un número: 7\n",
            "El número 7 es impar.\n"
          ]
        }
      ]
    },
    {
      "cell_type": "code",
      "source": [
        "3# Definir si un número es mayor que n o menor e igual que m\n",
        "\n",
        "numero = float(input(\"Ingrese el número: \"))\n",
        "n = float(input(\"Ingrese el valor de n: \"))\n",
        "m = float(input(\"Ingrese el valor de m: \"))\n",
        "\n",
        "# Usamos una expresión ternaria anidada para determinar el resultado\n",
        "resultado = \"Mayor que n\" if numero > n else (\"Menor o igual que m\" if numero <= m else \"No cumple ninguna condición\")\n",
        "\n",
        "print(resultado)\n"
      ],
      "metadata": {
        "colab": {
          "base_uri": "https://localhost:8080/"
        },
        "id": "uol1bPO6bhup",
        "outputId": "2c873013-9c72-4438-f21e-2d3fe0b1077f"
      },
      "execution_count": 55,
      "outputs": [
        {
          "output_type": "stream",
          "name": "stdout",
          "text": [
            "Ingrese el número: 8\n",
            "Ingrese el valor de n: 7\n",
            "Ingrese el valor de m: 15\n",
            "Mayor que n\n"
          ]
        }
      ]
    },
    {
      "cell_type": "code",
      "source": [
        "#4. Definir si una letra es m o no\n",
        "\n",
        "letra = input(\"Ingrese una letra: \").strip().lower()\n",
        "\n",
        "\n",
        "resultado = \"La letra es m\" if letra == 'm' else \"La letra no es m\"\n",
        "\n",
        "print(resultado)\n"
      ],
      "metadata": {
        "colab": {
          "base_uri": "https://localhost:8080/"
        },
        "id": "OSlMWwhoc4PQ",
        "outputId": "e931ef69-0642-4ce9-9c6c-8ebc1e222c52"
      },
      "execution_count": 58,
      "outputs": [
        {
          "output_type": "stream",
          "name": "stdout",
          "text": [
            "Ingrese una letra: n\n",
            "La letra no es m\n"
          ]
        }
      ]
    },
    {
      "cell_type": "code",
      "source": [
        "#6. Decrementa en 1 una unidad, si x es mayor que 5\n",
        "\n",
        "x = float(input(\"Ingrese el valor de x: \"))\n",
        "\n",
        "\n",
        "x = (x - 1) if x > 5 else x\n",
        "\n",
        "print(x)\n",
        "\n"
      ],
      "metadata": {
        "colab": {
          "base_uri": "https://localhost:8080/"
        },
        "id": "c4tO1BradbLI",
        "outputId": "5c71a7b8-5c8c-4859-ef22-9a61a3e94c23"
      },
      "execution_count": 60,
      "outputs": [
        {
          "output_type": "stream",
          "name": "stdout",
          "text": [
            "Ingrese el valor de x: 78\n",
            "77.0\n"
          ]
        }
      ]
    }
  ]
}