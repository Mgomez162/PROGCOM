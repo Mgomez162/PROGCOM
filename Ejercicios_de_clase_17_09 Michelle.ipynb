{
  "nbformat": 4,
  "nbformat_minor": 0,
  "metadata": {
    "colab": {
      "provenance": []
    },
    "kernelspec": {
      "name": "python3",
      "display_name": "Python 3"
    },
    "language_info": {
      "name": "python"
    }
  },
  "cells": [
    {
      "cell_type": "markdown",
      "source": [
        "**1** Crear el programa que solicite el nombre y el código de un estudiante y que luego lo imprima,\n",
        "junto con el logo de la institución educativa perteneciente."
      ],
      "metadata": {
        "id": "HtbI7aQKd10n"
      }
    },
    {
      "cell_type": "code",
      "execution_count": 2,
      "metadata": {
        "colab": {
          "base_uri": "https://localhost:8080/"
        },
        "id": "xFCuYwa4azYS",
        "outputId": "b1427e06-c9fc-4d60-cb95-be3b5cb64f35"
      },
      "outputs": [
        {
          "output_type": "stream",
          "name": "stdout",
          "text": [
            "Digite su nombre: Michelle\n",
            "Digite su código: U00178076\n",
            "\n",
            "UNIVERSIDAD AUTÓNOMA DE BUCARAMANGA\n",
            "Nombre del estudiante: Michelle\n",
            "Código: U00178076\n"
          ]
        }
      ],
      "source": [
        "\n",
        "nombre = input(\"Digite su nombre: \")\n",
        "codigo = input(\"Digite su código: \")\n",
        "\n",
        "\n",
        "print(\"\\nUNIVERSIDAD AUTÓNOMA DE BUCARAMANGA\")\n",
        "print(f\"Nombre del estudiante: {nombre}\")\n",
        "print(f\"Código: {codigo}\")\n"
      ]
    },
    {
      "cell_type": "markdown",
      "source": [
        "**2** Diseñe un algoritmo para calcular el volumen de un cono"
      ],
      "metadata": {
        "id": "QIfFox5MeA5e"
      }
    },
    {
      "cell_type": "code",
      "source": [
        "import math\n",
        "def calcular_volumen_cono(radio, altura):\n",
        "    volumen = (1/3) * math.pi * radio**2 * altura\n",
        "    return volumen\n",
        "\n",
        "radio = float(input(\"Digite el radio de la base del cono: \"))\n",
        "altura = float(input(\"Digite la altura del cono: \"))\n",
        "\n",
        "\n",
        "volumen = calcular_volumen_cono(radio, altura)\n",
        "\n",
        "print(f\"\\nEl volumen del cono es: {volumen:.2f} unidades cúbicas\")"
      ],
      "metadata": {
        "colab": {
          "base_uri": "https://localhost:8080/"
        },
        "id": "0DeUVxiNeAgV",
        "outputId": "75bf028a-7f14-4955-cf29-571202f994e0"
      },
      "execution_count": 3,
      "outputs": [
        {
          "output_type": "stream",
          "name": "stdout",
          "text": [
            "Digite el radio de la base del cono: 0.25\n",
            "Digite la altura del cono: 1.5\n",
            "\n",
            "El volumen del cono es: 0.10 unidades cúbicas\n"
          ]
        }
      ]
    },
    {
      "cell_type": "markdown",
      "source": [
        "**3** Dado el conjunto de n servidores que apoyen una red de computadores, diseñe un programa\n",
        "que calcule el número total de conexiones entre los servidores que soportan la red"
      ],
      "metadata": {
        "id": "uAGR9KLreoMX"
      }
    },
    {
      "cell_type": "code",
      "source": [
        "n = int(input(\"Introduce el número de servidores: \"))\n",
        "numero_conexiones = (n * (n - 1)) // 2\n",
        "print(\"El número total de conexiones entre los servidores es:\", numero_conexiones)"
      ],
      "metadata": {
        "colab": {
          "base_uri": "https://localhost:8080/"
        },
        "id": "zoMQCesfera_",
        "outputId": "00930e28-48ae-43e8-c6b3-65b043fb58dc"
      },
      "execution_count": 4,
      "outputs": [
        {
          "output_type": "stream",
          "name": "stdout",
          "text": [
            "Introduce el número de servidores: 5\n",
            "El número total de conexiones entre los servidores es: 10\n"
          ]
        }
      ]
    },
    {
      "cell_type": "markdown",
      "source": [
        "**4** Diseñe un algoritmo que lea temperatura en grados centígrados (o\n",
        "C) y la convierta en grados\n",
        "Fahrenheit (o\n",
        "F) y a grados Kelvin (o\n",
        "K).\n"
      ],
      "metadata": {
        "id": "BsWcnWqgfI8e"
      }
    },
    {
      "cell_type": "code",
      "source": [
        "def celsius_a_fahrenheit(celsius):\n",
        "    fahrenheit = (celsius * 9/5) + 32\n",
        "    return fahrenheit\n",
        "\n",
        "def celsius_a_kelvin(celsius):\n",
        "    kelvin = celsius + 273.15\n",
        "    return kelvin\n",
        "\n",
        "celsius = float(input(\"Digite la temperatura en grados Celsius: \"))\n",
        "\n",
        "fahrenheit = celsius_a_fahrenheit(celsius)\n",
        "kelvin = celsius_a_kelvin(celsius)\n",
        "\n",
        "print(f\"\\nLa temperatura en Fahrenheit es: {fahrenheit:.2f}°F\")\n",
        "print(f\"La temperatura en Kelvin es: {kelvin:.2f}K\")"
      ],
      "metadata": {
        "colab": {
          "base_uri": "https://localhost:8080/"
        },
        "id": "l1fVwyyufIpv",
        "outputId": "d5f76b75-baf2-4977-d2e6-e3a5c138416a"
      },
      "execution_count": 5,
      "outputs": [
        {
          "output_type": "stream",
          "name": "stdout",
          "text": [
            "Digite la temperatura en grados Celsius: 10\n",
            "\n",
            "La temperatura en Fahrenheit es: 50.00°F\n",
            "La temperatura en Kelvin es: 283.15K\n"
          ]
        }
      ]
    },
    {
      "cell_type": "markdown",
      "source": [
        "**5** Diseñar el programa de un robot, que le permita contestar a ciertos requerimientos del usuario\n",
        "(se supone que el usuario sólo cuenta con una petición). Se debe programar los artículos y los\n",
        "precios de los mismos. El robot debe al menos:\n",
        "Dar la bienvenida al cliente."
      ],
      "metadata": {
        "id": "Jkmo6iDGfqxw"
      }
    },
    {
      "cell_type": "code",
      "source": [
        "\n",
        "productos = {\n",
        "    \"zapatos\": 52.200,\n",
        "    \"sandalias\": 77.850,\n",
        "    \"zapatillas\": 95.420,\n",
        "    \"cordones\": 3.200,\n",
        "    \"plantillas\": 2.000\n",
        "}\n",
        "\n",
        "def bienvenida():\n",
        "    print(\"¡Bienvenido a la tienda de Michelle virtual!\")\n",
        "    print(\"Aquí están los productos disponibles:\")\n",
        "    for producto, precio in productos.items():\n",
        "        print(f\"{producto.capitalize()} - ${precio:.2f}\")\n",
        "\n",
        "def responder_a_peticion():\n",
        "    peticion = input(\"¿Qué producto deseas?: \").lower()\n",
        "\n",
        "    if peticion in productos:\n",
        "        print(f\"El precio de {peticion} es ${productos[peticion]:.2f}.\")\n",
        "    else:\n",
        "        print(f\"Lo siento, no tenemos {peticion} en la tienda.\")\n",
        "\n",
        "bienvenida()\n",
        "responder_a_peticion()"
      ],
      "metadata": {
        "colab": {
          "base_uri": "https://localhost:8080/"
        },
        "id": "PKGlA4hCgAyn",
        "outputId": "66d83290-1bd0-4cfa-ef7f-58862572d59f"
      },
      "execution_count": 14,
      "outputs": [
        {
          "output_type": "stream",
          "name": "stdout",
          "text": [
            "¡Bienvenido a la tienda de Michelle virtual!\n",
            "Aquí están los productos disponibles:\n",
            "Zapatos - $52.20\n",
            "Sandalias - $77.85\n",
            "Zapatillas - $95.42\n",
            "Cordones - $3.20\n",
            "Plantillas - $2.00\n",
            "¿Qué producto deseas?: sandalias\n",
            "El precio de sandalias es $77.85.\n"
          ]
        }
      ]
    },
    {
      "cell_type": "markdown",
      "source": [
        "**6** Diseñe un programa que le permita calcular la resistencia total Rx. Considere que las n\n",
        "resistencias pueden estar en serie o en paralelo."
      ],
      "metadata": {
        "id": "89LTOw5-hQV3"
      }
    },
    {
      "cell_type": "code",
      "source": [
        "\n",
        "tipo_conexion = input(\"¿Las resistencias están en serie o en paralelo? (serie/paralelo): \").strip().lower()\n",
        "n = int(input(\"Introduce el número de resistencias: \"))\n",
        "resistencias = []\n",
        "\n",
        "for i in range(n):\n",
        "    resistencia = float(input(f\"Introduce el valor de la resistencia {i + 1} en ohmios: \"))\n",
        "    resistencias.append(resistencia)\n",
        "\n",
        "if tipo_conexion == \"serie\":\n",
        "    resistencia_total = sum(resistencias)\n",
        "\n",
        "elif tipo_conexion == \"paralelo\":\n",
        "    suma_inversos = 0\n",
        "    for resistencia in resistencias:\n",
        "        suma_inversos += 1 / resistencia\n",
        "    resistencia_total = 1 / suma_inversos if suma_inversos != 0 else float('inf')\n",
        "\n",
        "else:\n",
        "    print(\"Tipo de conexión no válido. Por favor, elige 'serie' o 'paralelo'.\")\n",
        "    resistencia_total= None\n",
        "\n",
        "if resistencia_total is not None:\n",
        "    print(f\"La resistencia total es: {resistencia_total:.2f} ohmios\")"
      ],
      "metadata": {
        "colab": {
          "base_uri": "https://localhost:8080/"
        },
        "id": "r3bW7KBYhnUf",
        "outputId": "3e0a9411-5806-4180-85c2-6d300528dde2"
      },
      "execution_count": 21,
      "outputs": [
        {
          "output_type": "stream",
          "name": "stdout",
          "text": [
            "¿Las resistencias están en serie o en paralelo? (serie/paralelo): serie\n",
            "Introduce el número de resistencias: 7\n",
            "Introduce el valor de la resistencia 1 en ohmios: 58\n",
            "Introduce el valor de la resistencia 2 en ohmios: 7\n",
            "Introduce el valor de la resistencia 3 en ohmios: 89\n",
            "Introduce el valor de la resistencia 4 en ohmios: 52\n",
            "Introduce el valor de la resistencia 5 en ohmios: 47\n",
            "Introduce el valor de la resistencia 6 en ohmios: 52\n",
            "Introduce el valor de la resistencia 7 en ohmios: 69\n",
            "La resistencia total es: 374.00 ohmios\n"
          ]
        }
      ]
    },
    {
      "cell_type": "markdown",
      "source": [
        "**7** Diseñe un algoritmo que lea temperatura en grados centígrados (o\n",
        "C) y la convierta en grados\n",
        "Fahrenheit (o\n",
        "F) y a grados Kelvin (o\n",
        "K), siempre y cuando la temperatura dada en grados sea\n",
        "positiva"
      ],
      "metadata": {
        "id": "EmWXDpXTj7wg"
      }
    },
    {
      "cell_type": "code",
      "source": [
        "n = int(input(\"¿Cuántas temperaturas deseas convertir?: \"))\n",
        "\n",
        "for i in range(n):\n",
        "    celsius = float(input(\"Ingrese la temperatura en grados Celsius (debe ser positiva): \"))\n",
        "    if celsius < 0:\n",
        "        print(\"Temperatura no válida. Debe ser positiva.\")\n",
        "    else:\n",
        "        fahrenheit = (9/5) * celsius + 32\n",
        "        kelvin = celsius + 273.15\n",
        "        print(f\"Temperatura en Fahrenheit: {fahrenheit}\")\n",
        "        print(f\"Temperatura en Kelvin: {kelvin}\")"
      ],
      "metadata": {
        "colab": {
          "base_uri": "https://localhost:8080/"
        },
        "id": "Ojvq4JwmkSFY",
        "outputId": "904e548d-1b70-4bde-cc3d-97375d0bd391"
      },
      "execution_count": 22,
      "outputs": [
        {
          "output_type": "stream",
          "name": "stdout",
          "text": [
            "¿Cuántas temperaturas deseas convertir?: 5\n",
            "Ingrese la temperatura en grados Celsius (debe ser positiva): 85\n",
            "Temperatura en Fahrenheit: 185.0\n",
            "Temperatura en Kelvin: 358.15\n",
            "Ingrese la temperatura en grados Celsius (debe ser positiva): 98\n",
            "Temperatura en Fahrenheit: 208.4\n",
            "Temperatura en Kelvin: 371.15\n",
            "Ingrese la temperatura en grados Celsius (debe ser positiva): 22\n",
            "Temperatura en Fahrenheit: 71.6\n",
            "Temperatura en Kelvin: 295.15\n",
            "Ingrese la temperatura en grados Celsius (debe ser positiva): 4\n",
            "Temperatura en Fahrenheit: 39.2\n",
            "Temperatura en Kelvin: 277.15\n",
            "Ingrese la temperatura en grados Celsius (debe ser positiva): 4\n",
            "Temperatura en Fahrenheit: 39.2\n",
            "Temperatura en Kelvin: 277.15\n"
          ]
        }
      ]
    },
    {
      "cell_type": "markdown",
      "source": [
        "**8** Dado dos enteros: horas(h) y minutos (m), representativos del tiempo en horas y minutos dado\n",
        "por un reloj de 24 horas, convierta el tiempo dado por el reloj de 24 horas a un reloj que\n",
        "obtenga el tiempo cada 12 horas"
      ],
      "metadata": {
        "id": "6bUWEJkkkcRx"
      }
    },
    {
      "cell_type": "code",
      "source": [
        "def convertir_a_12_horas(h, m):\n",
        "    \"\"\"\n",
        "    Convierte el tiempo dado por un reloj de 24 horas a un reloj de 12 horas.\n",
        "\n",
        "    Args:\n",
        "      h: Horas (0-23).\n",
        "      m: Minutos (0-59).\n",
        "\n",
        "    Returns:\n",
        "      Una tupla con las horas y minutos en formato de 12 horas y el periodo AM/PM.\n",
        "    \"\"\"\n",
        "    if h == 0:\n",
        "        h = 12\n",
        "        periodo = \"AM\"\n",
        "    elif h < 12:\n",
        "        periodo = \"AM\"\n",
        "    elif h == 12:\n",
        "        periodo = \"PM\"\n",
        "    else:\n",
        "        h -= 12\n",
        "        periodo = \"PM\"\n",
        "\n",
        "    return (h, m, periodo)\n",
        "\n",
        "horas = int(input(\"Ingrese las horas (0-23): \"))\n",
        "minutos = int(input(\"Ingrese los minutos (0-59): \"))\n",
        "\n",
        "hora_convertida, minuto_convertido, periodo = convertir_a_12_horas(horas, minutos)\n",
        "\n",
        "print(f\"La hora en formato de 12 horas es: {hora_convertida}:{minuto_convertido:02d} {periodo}\")"
      ],
      "metadata": {
        "colab": {
          "base_uri": "https://localhost:8080/"
        },
        "id": "62l3t3O7koEY",
        "outputId": "323bb363-150c-41f6-cf2f-285a79abb32f"
      },
      "execution_count": 28,
      "outputs": [
        {
          "output_type": "stream",
          "name": "stdout",
          "text": [
            "Ingrese las horas (0-23): 22\n",
            "Ingrese los minutos (0-59): 10\n",
            "La hora en formato de 12 horas es: 10:10 PM\n"
          ]
        }
      ]
    },
    {
      "cell_type": "markdown",
      "source": [
        "**9** Crear el programa que solicite el nombre y el código de n estudiantes. Dependiendo del código,\n",
        "clasifique la carrera del estudiante y que luego lo imprima, junto con el nombre de la institución\n",
        "educativa perteneciente"
      ],
      "metadata": {
        "id": "RsgneJPnlv_J"
      }
    },
    {
      "cell_type": "code",
      "source": [
        "def clasificar_carrera(codigo):\n",
        "    carrera_dict = {\n",
        "        \"0001\": \"Telecomunicaciones\",\n",
        "        \"0002\": \"Financiera\",\n",
        "        \"0003\": \"Mecatrónica\",\n",
        "        \"0004\": \"Ciencia de Datos\"\n",
        "    }\n",
        "    return carrera_dict.get(codigo, \"Desconocida\")\n",
        "\n",
        "def main():\n",
        "    nombre = input(\"Digite su nombre: \")\n",
        "    codigo = input(\"Digite su código: \")\n",
        "\n",
        "    if not (codigo.startswith('U') and len(codigo) >= 10):\n",
        "        print(\"Código inválido. Asegúrese de que comience con 'U' y tenga al menos 10 caracteres.\")\n",
        "        return\n",
        "\n",
        "    carrera_codigo = codigo[1:5]\n",
        "    carrera = clasificar_carrera(carrera_codigo)\n",
        "    institucion = \"UNIVERSIDAD AUTÓNOMA DE BUCARAMANGA\"\n",
        "\n",
        "    print(f\"{institucion}\")\n",
        "    print(f\"Nombre del estudiante: {nombre}\")\n",
        "    print(f\"Código: {codigo}\")\n",
        "    print(f\"Carrera: {carrera}\")\n",
        "\n",
        "if __name__ == \"__main__\":\n",
        "    main()\n"
      ],
      "metadata": {
        "colab": {
          "base_uri": "https://localhost:8080/"
        },
        "id": "1RnwZMjLluhx",
        "outputId": "2244352e-90a5-42d2-ca4b-2446b866785b"
      },
      "execution_count": 34,
      "outputs": [
        {
          "output_type": "stream",
          "name": "stdout",
          "text": [
            "Digite su nombre: Michelle\n",
            "Digite su código: U0002178076\n",
            "UNIVERSIDAD AUTÓNOMA DE BUCARAMANGA\n",
            "Nombre del estudiante: Michelle\n",
            "Código: U0002178076\n",
            "Carrera: Financiera\n"
          ]
        }
      ]
    },
    {
      "cell_type": "markdown",
      "source": [
        "**10** Diseñe un algoritmo que ejecute las funciones trigonométricas sen(x), cos(x) y tan(x) sujetas a la\n",
        "selección de las opciones asociadas así: Opción 1 para la función seno, opción 2 para la función\n",
        "coseno y opción 3 para el cálculo de la tangente, siendo el valor de x un argumento de entrada\n",
        "dado en grados."
      ],
      "metadata": {
        "id": "cpzVXlgUnsQ6"
      }
    },
    {
      "cell_type": "code",
      "source": [
        "import math\n",
        "print(\"Elija la función a calcular:\")\n",
        "print(\"1. Seno\")\n",
        "print(\"2. Coseno\")\n",
        "print(\"3. Tangente\")\n",
        "opcion = int(input(\"Ingrese su opción (1, 2 o 3): \"))\n",
        "if opcion == 1:\n",
        "    x = float(input(\"Ingrese el valor de x en grados: \"))\n",
        "    seno = math.sin(math.radians(x))\n",
        "elif opcion == 2:\n",
        "    x = float(input(\"Ingrese el valor de x en grados: \"))\n",
        "    seno = math.cos(math.radians(x))\n",
        "elif opcion == 3:\n",
        "    x = float(input(\"Ingrese el valor de x en grados: \"))\n",
        "    seno = math.tan(math.radians(x))\n",
        "else:\n",
        "    print(\"Opción no válida\")\n",
        "    seno = None\n",
        "if seno is not None:\n",
        "    print(f\"El resultado de la función es: {seno}\")"
      ],
      "metadata": {
        "colab": {
          "base_uri": "https://localhost:8080/"
        },
        "id": "JhuGfczCoET6",
        "outputId": "75e1fe7e-f73d-4e0f-b69b-7a714b038c6c"
      },
      "execution_count": 35,
      "outputs": [
        {
          "output_type": "stream",
          "name": "stdout",
          "text": [
            "Elija la función a calcular:\n",
            "1. Seno\n",
            "2. Coseno\n",
            "3. Tangente\n",
            "Ingrese su opción (1, 2 o 3): 1\n",
            "Ingrese el valor de x en grados: 456\n",
            "El resultado de la función es: 0.9945218953682733\n"
          ]
        }
      ]
    }
  ]
}