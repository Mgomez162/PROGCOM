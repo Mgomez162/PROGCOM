{
  "nbformat": 4,
  "nbformat_minor": 0,
  "metadata": {
    "colab": {
      "provenance": []
    },
    "kernelspec": {
      "name": "python3",
      "display_name": "Python 3"
    },
    "language_info": {
      "name": "python"
    }
  },
  "cells": [
    {
      "cell_type": "markdown",
      "source": [
        "**BREVE DEFINICIÓN LISTAS**"
      ],
      "metadata": {
        "id": "XSEXc8mQpk6G"
      }
    },
    {
      "cell_type": "code",
      "execution_count": null,
      "metadata": {
        "id": "PXO3en5poyJ0"
      },
      "outputs": [],
      "source": [
        "#sort\n",
        "lista1= [19,1,04,08,04,87]\n",
        "lista2= [\"Michelle\", \"Andrea\", \"Gomez\", \"Pinzon\"]\n",
        "lista1.sort()\n",
        "print(lista1)\n",
        "lista2.sort()\n",
        "print(lista2)\n"
      ]
    },
    {
      "cell_type": "markdown",
      "source": [
        "**BREVE DEFINICIÓN DICCIONARIO**"
      ],
      "metadata": {
        "id": "W90pW_i0qGG6"
      }
    },
    {
      "cell_type": "code",
      "source": [
        "dict1 = {\"nombre\": \"Michelle\", \"apellido1\": \"Gomez\"}\n",
        "dict2 = {\"día\": 19, \"mes\": 1, \"año\": 2004}\n"
      ],
      "metadata": {
        "id": "xZ9_zAZOqKyF"
      },
      "execution_count": null,
      "outputs": []
    },
    {
      "cell_type": "markdown",
      "source": [
        "\n",
        "**EJERCICIOS LISTAS**"
      ],
      "metadata": {
        "id": "9-qNW0KA5oLi"
      }
    },
    {
      "cell_type": "code",
      "source": [
        "\n",
        "list1 = [100, 200, 300, 400, 500]\n",
        "list1.reverse()\n",
        "print(list1)\n"
      ],
      "metadata": {
        "colab": {
          "base_uri": "https://localhost:8080/"
        },
        "id": "-QAUSaDRw1K1",
        "outputId": "f65da4c1-2805-4827-f9d6-d32c0f8aca13"
      },
      "execution_count": 4,
      "outputs": [
        {
          "output_type": "stream",
          "name": "stdout",
          "text": [
            "[500, 400, 300, 200, 100]\n"
          ]
        }
      ]
    },
    {
      "cell_type": "code",
      "source": [
        "lista1 = [\"M\", \"nom\", \"e\", \"e\"]\n",
        "lista2 = [\"i\", \"bre\", \"s\", \"quis\"]\n",
        "\n",
        "resultado = [a + b for a, b in zip(lista1, lista2)]\n",
        "\n",
        "resultado[-1] = \"Michelle Gómez\"\n",
        "\n",
        "print(resultado)\n",
        "\n"
      ],
      "metadata": {
        "colab": {
          "base_uri": "https://localhost:8080/"
        },
        "id": "lyWhHEITxNbg",
        "outputId": "c66648a0-24ba-4941-dff1-5a12d258ea8c"
      },
      "execution_count": 6,
      "outputs": [
        {
          "output_type": "stream",
          "name": "stdout",
          "text": [
            "['Mi', 'nombre', 'es', 'Michelle Gómez']\n"
          ]
        }
      ]
    },
    {
      "cell_type": "code",
      "source": [
        "lista = [1, 2, 3, 4, 5, 6, 7]\n",
        "\n",
        "# Calculamos el cuadrado de cada elemento\n",
        "resultado = [x * x for x in lista]\n",
        "\n",
        "print(resultado)\n"
      ],
      "metadata": {
        "colab": {
          "base_uri": "https://localhost:8080/"
        },
        "id": "05o5fL1RxpMy",
        "outputId": "c0ffd1cb-37de-4bc4-b2e5-354f9d32a978"
      },
      "execution_count": 7,
      "outputs": [
        {
          "output_type": "stream",
          "name": "stdout",
          "text": [
            "[1, 4, 9, 16, 25, 36, 49]\n"
          ]
        }
      ]
    },
    {
      "cell_type": "code",
      "source": [
        "lista1 = [\"Hola \", \"toma \"]\n",
        "lista2 = [\"Querido\", \"Señor\"]\n",
        "\n",
        "resultado = [a + b for a in lista1 for b in lista2]\n",
        "\n",
        "print(resultado)\n"
      ],
      "metadata": {
        "colab": {
          "base_uri": "https://localhost:8080/"
        },
        "id": "vJ0-aor-yHli",
        "outputId": "4d3c2aa7-3e28-4c54-d74e-56be9c675090"
      },
      "execution_count": 8,
      "outputs": [
        {
          "output_type": "stream",
          "name": "stdout",
          "text": [
            "['Hola Querido', 'Hola Señor', 'toma Querido', 'toma Señor']\n"
          ]
        }
      ]
    },
    {
      "cell_type": "code",
      "source": [
        "list1 = [10, 20, 30, 40]\n",
        "list2 = [100, 200, 300, 400]\n",
        "\n",
        "# Emparejamos los elementos de list1 con los de list2 en orden inverso\n",
        "for a, b in zip(list1, reversed(list2)):\n",
        "    print(a, b)\n"
      ],
      "metadata": {
        "colab": {
          "base_uri": "https://localhost:8080/"
        },
        "id": "r2CNJlLGyUxz",
        "outputId": "d61f9418-6084-4295-aa65-94c4598bd79e"
      },
      "execution_count": 9,
      "outputs": [
        {
          "output_type": "stream",
          "name": "stdout",
          "text": [
            "10 400\n",
            "20 300\n",
            "30 200\n",
            "40 100\n"
          ]
        }
      ]
    },
    {
      "cell_type": "code",
      "source": [
        "lista = [\"Mike\", \"\", \"Emma\", \"Kelly\", \"\", \"Brad\"]\n",
        "\n",
        "resultado = [x for x in lista if x]\n",
        "\n",
        "print(resultado)\n"
      ],
      "metadata": {
        "colab": {
          "base_uri": "https://localhost:8080/"
        },
        "id": "nkRHsoq-ydmJ",
        "outputId": "1842ef29-2634-433f-c91c-ec30ab478215"
      },
      "execution_count": 10,
      "outputs": [
        {
          "output_type": "stream",
          "name": "stdout",
          "text": [
            "['Mike', 'Emma', 'Kelly', 'Brad']\n"
          ]
        }
      ]
    },
    {
      "cell_type": "code",
      "source": [
        "lista = [10, 20, [300, 400, [5000, 6000], 500], 30, 40]\n",
        "\n",
        "lista[2][2].append(7000)\n",
        "\n",
        "print(lista)\n"
      ],
      "metadata": {
        "colab": {
          "base_uri": "https://localhost:8080/"
        },
        "id": "gcvbMzX5ylGA",
        "outputId": "94d8a645-cd7f-41a4-a1fd-b9490e6bfd6a"
      },
      "execution_count": 11,
      "outputs": [
        {
          "output_type": "stream",
          "name": "stdout",
          "text": [
            "[10, 20, [300, 400, [5000, 6000, 7000], 500], 30, 40]\n"
          ]
        }
      ]
    },
    {
      "cell_type": "code",
      "source": [
        "lista1 = [\"a\", \"b\", [\"c\", [\"d\", \"e\", [\"f\", \"g\"], \"k\"], \"l\"], \"m\", \"n\"]\n",
        "lista2 = [\"h\", \"i\", \"j\"]\n",
        "\n",
        "lista1[2][1][2].extend(lista2)\n",
        "\n",
        "print(lista1)\n"
      ],
      "metadata": {
        "colab": {
          "base_uri": "https://localhost:8080/"
        },
        "id": "_BcL5ucIyvNy",
        "outputId": "4e3b0638-7cb6-43ea-ff88-30f957ec252a"
      },
      "execution_count": 12,
      "outputs": [
        {
          "output_type": "stream",
          "name": "stdout",
          "text": [
            "['a', 'b', ['c', ['d', 'e', ['f', 'g', 'h', 'i', 'j'], 'k'], 'l'], 'm', 'n']\n"
          ]
        }
      ]
    },
    {
      "cell_type": "code",
      "source": [
        "\n",
        "lista = [5, 10, 15, 20, 25, 50, 20]\n",
        "\n",
        "indice_mitad = len(lista) // 2\n",
        "\n",
        "\n",
        "lista[indice_mitad] = 200\n",
        "\n",
        "\n",
        "print(lista)\n"
      ],
      "metadata": {
        "colab": {
          "base_uri": "https://localhost:8080/"
        },
        "id": "UVJ0MZ-1y8sW",
        "outputId": "63237e6c-7fea-4bd4-a5e7-405301938f75"
      },
      "execution_count": 13,
      "outputs": [
        {
          "output_type": "stream",
          "name": "stdout",
          "text": [
            "[5, 10, 15, 200, 25, 50, 20]\n"
          ]
        }
      ]
    },
    {
      "cell_type": "code",
      "source": [
        "\n",
        "lista = [5, 20, 15, 20, 25, 50, 20]\n",
        "\n",
        "# Creamos una lista vacía para almacenar los elementos únicos\n",
        "unicos = []\n",
        "\n",
        "# Iteramos sobre los elementos de la lista original\n",
        "for elemento in lista:\n",
        "    # Agregamos el elemento a la lista de únicos solo si no está ya presente\n",
        "    if elemento not in unicos:\n",
        "        unicos.append(elemento)\n",
        "\n",
        "# Imprimimos la lista con los elementos únicos\n",
        "print(unicos)\n"
      ],
      "metadata": {
        "colab": {
          "base_uri": "https://localhost:8080/"
        },
        "id": "UcOR_jAazld2",
        "outputId": "8b1de8d8-5d1b-447b-b32a-f7224f78d296"
      },
      "execution_count": 14,
      "outputs": [
        {
          "output_type": "stream",
          "name": "stdout",
          "text": [
            "[5, 20, 15, 25, 50]\n"
          ]
        }
      ]
    },
    {
      "cell_type": "code",
      "source": [
        "\n",
        "lista = [5, 20, 15, 20, 25, 50, 20]\n",
        "\n",
        "# Creamos un diccionario para almacenar las frecuencias de cada elemento\n",
        "frecuencias = {}\n",
        "\n",
        "for elemento in lista:\n",
        "\n",
        "    if elemento in frecuencias:\n",
        "        frecuencias[elemento] += 1\n",
        "\n",
        "    else:\n",
        "        frecuencias[elemento] = 1\n",
        "\n",
        "\n",
        "for elemento, conteo in frecuencias.items():\n",
        "    print(f\"{elemento} = {conteo}\")\n"
      ],
      "metadata": {
        "colab": {
          "base_uri": "https://localhost:8080/"
        },
        "id": "GxmCWp2izvS4",
        "outputId": "1ae5150d-9e3f-4b08-e282-9e44e6ca14e9"
      },
      "execution_count": 15,
      "outputs": [
        {
          "output_type": "stream",
          "name": "stdout",
          "text": [
            "5 = 1\n",
            "20 = 3\n",
            "15 = 1\n",
            "25 = 1\n",
            "50 = 1\n"
          ]
        }
      ]
    },
    {
      "cell_type": "code",
      "source": [
        "\n",
        "lista = [5, 20, 15, 20, 25, 50, 20]\n",
        "\n",
        "\n",
        "orden = input(\"Ingrese 'men' para ordenar de menor a mayor o 'may' para ordenar de mayor a menor: \")\n",
        "\n",
        "\n",
        "if orden == 'men':\n",
        "    lista.sort()\n",
        "elif orden == 'may':\n",
        "    lista.sort(reverse=True)\n",
        "else:\n",
        "    print(\"Opción no válida. La lista no se ordenará.\")\n",
        "\n",
        "\n",
        "print(lista)\n"
      ],
      "metadata": {
        "colab": {
          "base_uri": "https://localhost:8080/"
        },
        "id": "Ujpyf8Ni0Cxz",
        "outputId": "c1ebd63f-f64f-40e2-93a2-1182cdfa6929"
      },
      "execution_count": 16,
      "outputs": [
        {
          "output_type": "stream",
          "name": "stdout",
          "text": [
            "Ingrese 'men' para ordenar de menor a mayor o 'may' para ordenar de mayor a menor: men\n",
            "[5, 15, 20, 20, 20, 25, 50]\n"
          ]
        }
      ]
    },
    {
      "cell_type": "code",
      "source": [
        "import math\n",
        "\n",
        "lista = [5, 20, 15, 20, 25, 50, 20]\n",
        "\n",
        "\n",
        "suma = sum(lista)\n",
        "\n",
        "\n",
        "multiplicacion = math.prod(lista)\n",
        "\n",
        "\n",
        "numero_mayor = max(lista)\n",
        "\n",
        "\n",
        "numero_menor = min(lista)\n",
        "\n",
        "# Imprimimos los resultados\n",
        "print(f\"Suma de todos los elementos: {suma}\")\n",
        "print(f\"Multiplicación de todos los elementos: {multiplicacion}\")\n",
        "print(f\"Número mayor: {numero_mayor}\")\n",
        "print(f\"Número menor: {numero_menor}\")\n"
      ],
      "metadata": {
        "colab": {
          "base_uri": "https://localhost:8080/"
        },
        "id": "1-4vVgqN0YEn",
        "outputId": "afb6fca3-866b-4852-93ec-7c96efaf38fb"
      },
      "execution_count": 17,
      "outputs": [
        {
          "output_type": "stream",
          "name": "stdout",
          "text": [
            "Suma de todos los elementos: 155\n",
            "Multiplicación de todos los elementos: 750000000\n",
            "Número mayor: 50\n",
            "Número menor: 5\n"
          ]
        }
      ]
    },
    {
      "cell_type": "code",
      "source": [
        "\n",
        "lista1 = [10, 30, 50, 70, 90]\n",
        "lista2 = [30, 60, 90, 120]\n",
        "\n",
        "diferencia = list(set(lista1).symmetric_difference(set(lista2)))\n",
        "\n",
        "\n",
        "print(\"Diferencia entre lista1 y lista2:\", diferencia)\n"
      ],
      "metadata": {
        "colab": {
          "base_uri": "https://localhost:8080/"
        },
        "id": "auqNucKM0stI",
        "outputId": "01b73ca2-c862-4e1f-da29-849588064644"
      },
      "execution_count": 18,
      "outputs": [
        {
          "output_type": "stream",
          "name": "stdout",
          "text": [
            "Diferencia entre lista1 y lista2: [70, 10, 50, 120, 60]\n"
          ]
        }
      ]
    },
    {
      "cell_type": "code",
      "source": [
        "\n",
        "lista = [45, 23, 67, 12, 89, 34, 56, 10, 78, 31]\n",
        "\n",
        "\n",
        "lista_ordenada = sorted(lista)\n",
        "\n",
        "\n",
        "segundo_menor = lista_ordenada[1]\n",
        "tercer_menor = lista_ordenada[2]\n",
        "\n",
        "\n",
        "print(\"Segundo menor elemento:\", segundo_menor)\n",
        "print(\"Tercer menor elemento:\", tercer_menor)\n"
      ],
      "metadata": {
        "colab": {
          "base_uri": "https://localhost:8080/"
        },
        "id": "nP-JF1lH07Vo",
        "outputId": "0782fa99-4645-41db-ba71-970fcc728cdc"
      },
      "execution_count": 19,
      "outputs": [
        {
          "output_type": "stream",
          "name": "stdout",
          "text": [
            "Segundo menor elemento: 12\n",
            "Tercer menor elemento: 23\n"
          ]
        }
      ]
    },
    {
      "cell_type": "code",
      "source": [
        "\n",
        "lista_principal = [15, 30, 45, 60, 75, 90,]\n",
        "\n",
        "# a. Lista1: Suma del segundo elemento con el primero\n",
        "lista1 = [lista_principal[i] + lista_principal[i - 1] for i in range(1, len(lista_principal))]\n",
        "\n",
        "# b. Lista2: Resta del segundo elemento con el primero, reemplazando negativos con 0\n",
        "lista2 = [max(lista_principal[i] - lista_principal[i - 1], 0) for i in range(1, len(lista_principal))]\n",
        "\n",
        "# c. Lista3: Multiplica cada uno de los elementos por 2\n",
        "lista3 = [elemento * 2 for elemento in lista_principal]\n",
        "\n",
        "# d. Lista4: Eleva cada uno de los elementos al cuadrado\n",
        "lista4 = [elemento ** 2 for elemento in lista_principal]\n",
        "\n",
        "# Imprimimos los resultados\n",
        "print(\"Lista1 =\", lista1)\n",
        "print(\"Lista2 =\", lista2)\n",
        "print(\"Lista3 =\", lista3)\n",
        "print(\"Lista4 =\", lista4)\n"
      ],
      "metadata": {
        "colab": {
          "base_uri": "https://localhost:8080/"
        },
        "id": "hhTxrRhI1Eyv",
        "outputId": "c047f8d1-616c-48cc-df15-a45582550656"
      },
      "execution_count": 20,
      "outputs": [
        {
          "output_type": "stream",
          "name": "stdout",
          "text": [
            "Lista1 = [45, 75, 105, 135, 165]\n",
            "Lista2 = [15, 15, 15, 15, 15]\n",
            "Lista3 = [30, 60, 90, 120, 150, 180]\n",
            "Lista4 = [225, 900, 2025, 3600, 5625, 8100]\n"
          ]
        }
      ]
    },
    {
      "cell_type": "code",
      "source": [
        "def separar_lista(lista, n):\n",
        "    resultado = [[] for _ in range(n)]\n",
        "    for i, elemento in enumerate(lista):\n",
        "        resultado[i % n].append(elemento)\n",
        "    return resultado\n",
        "\n",
        "# Ejemplo de uso\n",
        "lista_original = ['a', 'b', 'c', 'd', 'e', 'f', 'g', 'h', 'i', 'j', 'k', 'l', 'm', 'n']\n",
        "n = 5\n",
        "\n",
        "resultado = separar_lista(lista_original, n)\n",
        "print(resultado)"
      ],
      "metadata": {
        "colab": {
          "base_uri": "https://localhost:8080/"
        },
        "id": "d0yd-xcB1tLQ",
        "outputId": "f4dc4255-f335-4104-e575-29c5215c73a8"
      },
      "execution_count": 21,
      "outputs": [
        {
          "output_type": "stream",
          "name": "stdout",
          "text": [
            "[['a', 'f', 'k'], ['b', 'g', 'l'], ['c', 'h', 'm'], ['d', 'i', 'n'], ['e', 'j']]\n"
          ]
        }
      ]
    },
    {
      "cell_type": "code",
      "source": [
        "def mover_ceros_al_final(lista):\n",
        "    # Contamos el número de ceros\n",
        "    contador_ceros = lista.count(0)\n",
        "\n",
        "    # Removemos todos los ceros de la lista\n",
        "    lista = [num for num in lista if num != 0]\n",
        "\n",
        "    # Añadimos los ceros al final de la lista\n",
        "    lista.extend([0] * contador_ceros)\n",
        "\n",
        "    return lista\n",
        "\n",
        "# Ejemplo de uso\n",
        "lista_original = [3, 4, 0, 0, 0, 6, 2, 0, 6, 7, 6, 0, 0, 0, 9, 10, 7, 4, 4, 5, 3, 0, 0, 2, 9, 7, 1]\n",
        "resultado = mover_ceros_al_final(lista_original)\n",
        "print(resultado)"
      ],
      "metadata": {
        "colab": {
          "base_uri": "https://localhost:8080/"
        },
        "id": "VfWXGkUQ2OBc",
        "outputId": "42911b97-a26b-4274-8eaa-61bec08e25c6"
      },
      "execution_count": 22,
      "outputs": [
        {
          "output_type": "stream",
          "name": "stdout",
          "text": [
            "[3, 4, 6, 2, 6, 7, 6, 9, 10, 7, 4, 4, 5, 3, 2, 9, 7, 1, 0, 0, 0, 0, 0, 0, 0, 0, 0]\n"
          ]
        }
      ]
    },
    {
      "cell_type": "markdown",
      "source": [
        "**EJERCICIOS DICCIONARIO**"
      ],
      "metadata": {
        "id": "IUG4aRjY2YDu"
      }
    },
    {
      "cell_type": "code",
      "source": [
        "\n",
        "color_names = [\"Black\", \"Red\", \"Maroon\", \"Yellow\"]\n",
        "color_codes = [\"#000000\", \"#FF0000\", \"#800000\", \"#FFFF00\"]\n",
        "\n",
        "# Crear una lista de diccionarios combinando los elementos de ambas listas\n",
        "result = [{'color_name': name, 'color_code': code} for name, code in zip(color_names, color_codes)]\n",
        "\n",
        "# Imprimir el resultado\n",
        "print(result)\n"
      ],
      "metadata": {
        "colab": {
          "base_uri": "https://localhost:8080/"
        },
        "id": "UphYHBcp2b3m",
        "outputId": "a499456f-88a5-4394-e5c7-4cf4933b5ec6"
      },
      "execution_count": 23,
      "outputs": [
        {
          "output_type": "stream",
          "name": "stdout",
          "text": [
            "[{'color_name': 'Black', 'color_code': '#000000'}, {'color_name': 'Red', 'color_code': '#FF0000'}, {'color_name': 'Maroon', 'color_code': '#800000'}, {'color_name': 'Yellow', 'color_code': '#FFFF00'}]\n"
          ]
        }
      ]
    },
    {
      "cell_type": "code",
      "source": [
        "# Generar el diccionario donde la clave es el número y el valor es su cuadrado\n",
        "square_dict = {num: num**2 for num in range(1, 16)}\n",
        "\n",
        "# Imprimir el resultado\n",
        "print(square_dict)\n"
      ],
      "metadata": {
        "colab": {
          "base_uri": "https://localhost:8080/"
        },
        "id": "dgTe6bWk2qiU",
        "outputId": "dc9f1def-1a18-4cbf-8eb5-af6777fa6383"
      },
      "execution_count": 24,
      "outputs": [
        {
          "output_type": "stream",
          "name": "stdout",
          "text": [
            "{1: 1, 2: 4, 3: 9, 4: 16, 5: 25, 6: 36, 7: 49, 8: 64, 9: 81, 10: 100, 11: 121, 12: 144, 13: 169, 14: 196, 15: 225}\n"
          ]
        }
      ]
    },
    {
      "cell_type": "code",
      "source": [
        "\n",
        "d1 = {'a': 100, 'b': 200, 'c': 300}\n",
        "d2 = {'a': 300, 'b': 200, 'd': 400}\n",
        "\n",
        "# Crear un diccionario para almacenar el resultado\n",
        "d3 = {}\n",
        "\n",
        "# Unir las claves de ambos diccionarios\n",
        "for key in d1.keys() | d2.keys():  # '|' es la unión de los conjuntos de claves\n",
        "    d3[key] = d1.get(key, 0) + d2.get(key, 0)\n",
        "\n",
        "print(d3)\n"
      ],
      "metadata": {
        "colab": {
          "base_uri": "https://localhost:8080/"
        },
        "id": "HBOJmwUH2xg_",
        "outputId": "32688dc9-f27a-4f21-f9fd-fe50378197fb"
      },
      "execution_count": 25,
      "outputs": [
        {
          "output_type": "stream",
          "name": "stdout",
          "text": [
            "{'d': 400, 'b': 400, 'c': 300, 'a': 400}\n"
          ]
        }
      ]
    },
    {
      "cell_type": "code",
      "source": [
        "\n",
        "dict_list = [{\"V\":\"S001\"}, {\"V\": \"S002\"}, {\"VI\": \"S001\"}, {\"VI\": \"S005\"},\n",
        "             {\"VII\":\"S005\"}, {\"V\":\"S009\"}, {\"VIII\":\"S007\"}]\n",
        "\n",
        "unique_values = {value for dic in dict_list for value in dic.values()}\n",
        "\n",
        "print(unique_values)\n"
      ],
      "metadata": {
        "colab": {
          "base_uri": "https://localhost:8080/"
        },
        "id": "6xdAKEMg28a8",
        "outputId": "af666f29-b777-46f8-b49e-6ec8615ba1c6"
      },
      "execution_count": 27,
      "outputs": [
        {
          "output_type": "stream",
          "name": "stdout",
          "text": [
            "{'S009', 'S002', 'S005', 'S007', 'S001'}\n"
          ]
        }
      ]
    },
    {
      "cell_type": "code",
      "source": [
        "\n",
        "palabra = \"Michelle\"\n",
        "\n",
        "\n",
        "contador_letras = {}\n",
        "\n",
        "# Recorrer cada letra en la palabra\n",
        "for letra in palabra:\n",
        "    letra = letra.lower()  # Convertir las letras a minúsculas\n",
        "    if letra in contador_letras:\n",
        "        contador_letras[letra] += 1\n",
        "    else:\n",
        "        contador_letras[letra] = 1\n",
        "\n",
        "\n",
        "print(contador_letras)\n"
      ],
      "metadata": {
        "colab": {
          "base_uri": "https://localhost:8080/"
        },
        "id": "MyFu9es03H4c",
        "outputId": "26846b05-2376-4d03-d618-488157f4395f"
      },
      "execution_count": 30,
      "outputs": [
        {
          "output_type": "stream",
          "name": "stdout",
          "text": [
            "{'m': 1, 'i': 1, 'c': 1, 'h': 1, 'e': 2, 'l': 2}\n"
          ]
        }
      ]
    },
    {
      "cell_type": "code",
      "source": [
        "# Diccionario con los productos y sus precios en pesos colombianos (COP)\n",
        "productos = {\n",
        "    1: {\"nombre\": \"Producto 1\", \"precio\": 10500},\n",
        "    2: {\"nombre\": \"Producto 2\", \"precio\": 5750},\n",
        "    3: {\"nombre\": \"Producto 3\", \"precio\": 3200},\n",
        "    4: {\"nombre\": \"Producto 4\", \"precio\": 7300},\n",
        "    5: {\"nombre\": \"Producto 5\", \"precio\": 12400},\n",
        "    6: {\"nombre\": \"Producto 6\", \"precio\": 15500},\n",
        "    7: {\"nombre\": \"Producto 7\", \"precio\": 8900},\n",
        "    8: {\"nombre\": \"Producto 8\", \"precio\": 6600},\n",
        "    9: {\"nombre\": \"Producto 9\", \"precio\": 4450},\n",
        "    10: {\"nombre\": \"Producto 10\", \"precio\": 9850},\n",
        "    11: {\"nombre\": \"Producto 11\", \"precio\": 11300},\n",
        "    12: {\"nombre\": \"Producto 12\", \"precio\": 14000},\n",
        "    13: {\"nombre\": \"Producto 13\", \"precio\": 16700},\n",
        "    14: {\"nombre\": \"Producto 14\", \"precio\": 18250},\n",
        "    15: {\"nombre\": \"Producto 15\", \"precio\": 20000}\n",
        "}\n",
        "\n",
        "# Variables para el resumen de ventas del día\n",
        "clientes_atendidos = 0\n",
        "productos_vendidos = 0\n",
        "ganancia_total = 0.0\n",
        "mayor_compra = 0.0\n",
        "\n",
        "# Función para formatear los precios en pesos colombianos\n",
        "def formatear_cop(valor):\n",
        "    return f\"${valor:,.2f} COP\"\n",
        "\n",
        "# Ciclo para atender múltiples clientes\n",
        "while True:\n",
        "    factura = {}\n",
        "    total_compra = 0.0\n",
        "    print(\"\\n--- Nueva compra ---\")\n",
        "    print(\"Ingrese el número del producto o '0' para finalizar la compra.\")\n",
        "\n",
        "    # Ciclo para registrar productos en la factura\n",
        "    while True:\n",
        "        producto_id = int(input(\"Producto (1-15, o 0 para finalizar): \"))\n",
        "\n",
        "        if producto_id == 0:\n",
        "            break  # Termina la compra del cliente\n",
        "\n",
        "        if producto_id in productos:\n",
        "            cantidad = int(input(f\"Cantidad de {productos[producto_id]['nombre']}: \"))\n",
        "            subtotal = productos[producto_id]['precio'] * cantidad\n",
        "            factura[productos[producto_id]['nombre']] = {\n",
        "                \"cantidad\": cantidad,\n",
        "                \"subtotal\": subtotal\n",
        "            }\n",
        "            total_compra += subtotal\n",
        "            productos_vendidos += cantidad  # Acumular productos vendidos\n",
        "        else:\n",
        "            print(\"Producto no válido. Intente de nuevo.\")\n",
        "\n",
        "    # Mostrar factura del cliente\n",
        "    print(\"\\nFactura:\")\n",
        "    for producto, datos in factura.items():\n",
        "        precio_unitario = productos[next(key for key, value in productos.items() if value[\"nombre\"] == producto)][\"precio\"]\n",
        "        print(f\"{producto}: {datos['cantidad']} x {formatear_cop(precio_unitario)} = {formatear_cop(datos['subtotal'])}\")\n",
        "    print(f\"Total de la compra: {formatear_cop(total_compra)}\")\n",
        "\n",
        "    # Actualizar estadísticas del día\n",
        "    clientes_atendidos += 1\n",
        "    ganancia_total += total_compra\n",
        "    if total_compra > mayor_compra:\n",
        "        mayor_compra = total_compra\n",
        "\n",
        "    # Preguntar si hay más clientes\n",
        "    continuar = input(\"\\n¿Hay más clientes? (s/n): \").lower()\n",
        "    if continuar != 's':\n",
        "        break\n",
        "\n",
        "# Mostrar resumen del día\n",
        "print(\"\\n--- Resumen del día ---\")\n",
        "print(f\"Clientes atendidos: {clientes_atendidos}\")\n",
        "print(f\"Productos vendidos: {productos_vendidos}\")\n",
        "print(f\"Ganancia total: {formatear_cop(ganancia_total)}\")\n",
        "print(f\"La mayor compra fue: {formatear_cop(mayor_compra)}\")\n"
      ],
      "metadata": {
        "colab": {
          "base_uri": "https://localhost:8080/"
        },
        "id": "I6d63_xw4viI",
        "outputId": "ddf5fcb7-ff05-4c2a-95e3-bbe89a7c17b5"
      },
      "execution_count": 33,
      "outputs": [
        {
          "output_type": "stream",
          "name": "stdout",
          "text": [
            "\n",
            "--- Nueva compra ---\n",
            "Ingrese el número del producto o '0' para finalizar la compra.\n",
            "Producto (1-15, o 0 para finalizar): 5\n",
            "Cantidad de Producto 5: 2\n",
            "Producto (1-15, o 0 para finalizar): 8\n",
            "Cantidad de Producto 8: 1\n",
            "Producto (1-15, o 0 para finalizar): 25\n",
            "Producto no válido. Intente de nuevo.\n",
            "Producto (1-15, o 0 para finalizar): 0\n",
            "\n",
            "Factura:\n",
            "Producto 5: 2 x $12,400.00 COP = $24,800.00 COP\n",
            "Producto 8: 1 x $6,600.00 COP = $6,600.00 COP\n",
            "Total de la compra: $31,400.00 COP\n",
            "\n",
            "¿Hay más clientes? (s/n): n\n",
            "\n",
            "--- Resumen del día ---\n",
            "Clientes atendidos: 1\n",
            "Productos vendidos: 3\n",
            "Ganancia total: $31,400.00 COP\n",
            "La mayor compra fue: $31,400.00 COP\n"
          ]
        }
      ]
    }
  ]
}