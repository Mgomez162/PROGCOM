{
  "nbformat": 4,
  "nbformat_minor": 0,
  "metadata": {
    "colab": {
      "provenance": []
    },
    "kernelspec": {
      "name": "python3",
      "display_name": "Python 3"
    },
    "language_info": {
      "name": "python"
    }
  },
  "cells": [
    {
      "cell_type": "code",
      "execution_count": 18,
      "metadata": {
        "colab": {
          "base_uri": "https://localhost:8080/"
        },
        "id": "jMeHj4F6REui",
        "outputId": "aed7e3a6-f039-4838-8910-78e201c29b26"
      },
      "outputs": [
        {
          "output_type": "stream",
          "name": "stdout",
          "text": [
            "Introduce la palabra o frase que deseas decodificar: Nunu\n",
            "Introduce la dirección para las vocales (derecha/izquierda): izquierda\n",
            "Introduce la dirección para las consonantes (derecha/izquierda): izquierda\n",
            "Texto original: Nunu\n",
            "Texto decodificar: mimi\n"
          ]
        }
      ],
      "source": [
        "class TransformadorCaracter:\n",
        "    def __init__(self):\n",
        "        self.vocales = ['a', 'e', 'i', 'o', 'u']\n",
        "        self.vocales_tildadas = ['á', 'é', 'í', 'ó', 'ú']\n",
        "        self.consonantes = [\n",
        "            'b', 'c', 'd', 'f', 'g', 'h', 'j', 'k', 'l', 'm',\n",
        "            'n', 'ñ', 'p', 'q', 'r', 's', 't', 'v', 'w', 'x', 'y', 'z'\n",
        "        ]\n",
        "\n",
        "        # Se definen las versiones en mayúsculas\n",
        "        self.vocales_mayusculas = [v.upper() for v in self.vocales]\n",
        "        self.consonantes_mayusculas = [c.upper() for c in self.consonantes]\n",
        "        self.vocales_tildadas_mayusculas = [v.upper() for v in self.vocales_tildadas]\n",
        "\n",
        "    def encontrar_posicion(self, lista, caracter):\n",
        "        for i in range(len(lista)):\n",
        "            if lista[i] == caracter:\n",
        "                return i\n",
        "        return -1  # Retorna -1 si no se encuentra\n",
        "\n",
        "    def desplazar_vocal(self, caracter, direccion):\n",
        "        if caracter in self.vocales:\n",
        "            posicion = self.encontrar_posicion(self.vocales, caracter)\n",
        "        elif caracter in self.vocales_mayusculas:\n",
        "            posicion = self.encontrar_posicion(self.vocales_mayusculas, caracter)\n",
        "        else:\n",
        "            return caracter  # Si no es vocal, devolver sin cambios\n",
        "\n",
        "        if direccion == \"derecha\":\n",
        "            return self.vocales[(posicion + 2) % len(self.vocales)].lower()\n",
        "        elif direccion == \"izquierda\":\n",
        "            return self.vocales[(posicion - 2) % len(self.vocales)].lower()\n",
        "\n",
        "    def desplazar_consonante(self, caracter, direccion):\n",
        "        if caracter in self.consonantes:\n",
        "            posicion = self.encontrar_posicion(self.consonantes, caracter)\n",
        "        elif caracter in self.consonantes_mayusculas:\n",
        "            posicion = self.encontrar_posicion(self.consonantes_mayusculas, caracter)\n",
        "        else:\n",
        "            return caracter  # Si no es consonante, devolver sin cambios\n",
        "\n",
        "        if direccion == \"derecha\":\n",
        "            return self.consonantes[(posicion + 1) % len(self.consonantes)].lower()\n",
        "        elif direccion == \"izquierda\":\n",
        "            return self.consonantes[(posicion - 1) % len(self.consonantes)].lower()\n",
        "\n",
        "    def desplazar_vocal_tildada(self, caracter):\n",
        "        if caracter in self.vocales_tildadas:\n",
        "            posicion = self.encontrar_posicion(self.vocales_tildadas, caracter)\n",
        "            return self.vocales_tildadas[(posicion + 3) % len(self.vocales_tildadas)]\n",
        "        elif caracter in self.vocales_tildadas_mayusculas:\n",
        "            posicion = self.encontrar_posicion(self.vocales_tildadas_mayusculas, caracter)\n",
        "            return self.vocales_tildadas_mayusculas[(posicion + 3) % len(self.vocales_tildadas_mayusculas)]\n",
        "        return caracter\n",
        "\n",
        "\n",
        "class Dedoficador:\n",
        "    def __init__(self):\n",
        "        self.transformador = TransformadorCaracter()\n",
        "\n",
        "    def dedoficar(self, texto, direccion_vocal, direccion_consonante):\n",
        "        texto_dedoficado = ''\n",
        "        for caracter in texto:\n",
        "            if caracter in self.transformador.vocales or caracter in self.transformador.vocales_mayusculas:\n",
        "                texto_dedoficado += self.transformador.desplazar_vocal(caracter, direccion_vocal)\n",
        "            elif caracter in self.transformador.consonantes or caracter in self.transformador.consonantes_mayusculas:\n",
        "                texto_dedoficado += self.transformador.desplazar_consonante(caracter, direccion_consonante)\n",
        "            elif caracter in self.transformador.vocales_tildadas or caracter in self.transformador.vocales_tildadas_mayusculas:\n",
        "                texto_dedoficado += self.transformador.desplazar_vocal_tildada(caracter)\n",
        "            else:\n",
        "                texto_dedoficado += caracter  # Dejar sin cambios otros caracteres\n",
        "        return texto_dedoficado\n",
        "\n",
        "\n",
        "# Pedir al usuario la palabra o frase\n",
        "texto_original = input(\"Introduce la palabra o frase que deseas decodificar: \")\n",
        "direccion_vocal = input(\"Introduce la dirección para las vocales (derecha/izquierda): \").strip().lower()\n",
        "direccion_consonante = input(\"Introduce la dirección para las consonantes (derecha/izquierda): \").strip().lower()\n",
        "\n",
        "# Crear el dedoficador y dedoficar el texto\n",
        "dedoficador = Dedoficador()\n",
        "texto_dedoficado = dedoficador.dedoficar(texto_original, direccion_vocal, direccion_consonante)\n",
        "\n",
        "print(\"Texto original:\", texto_original)\n",
        "print(\"Texto decodificar:\", texto_dedoficado)\n",
        "\n",
        "\n",
        "\n"
      ]
    }
  ]
}