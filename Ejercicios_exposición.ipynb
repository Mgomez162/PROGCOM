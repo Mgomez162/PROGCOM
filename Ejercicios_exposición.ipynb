{
  "nbformat": 4,
  "nbformat_minor": 0,
  "metadata": {
    "colab": {
      "provenance": []
    },
    "kernelspec": {
      "name": "python3",
      "display_name": "Python 3"
    },
    "language_info": {
      "name": "python"
    }
  },
  "cells": [
    {
      "cell_type": "code",
      "execution_count": null,
      "metadata": {
        "colab": {
          "base_uri": "https://localhost:8080/"
        },
        "id": "dbkMlBlboSPU",
        "outputId": "522ca479-b2ee-49f6-be4f-357883363afb"
      },
      "outputs": [
        {
          "output_type": "stream",
          "name": "stdout",
          "text": [
            "Ingrese un número para verificar si es primo: 5\n",
            "El número 5 es primo.\n"
          ]
        }
      ],
      "source": [
        "#Mientras\n",
        "def es_primo(n):\n",
        "    if n < 2:\n",
        "        return False\n",
        "    i = 2\n",
        "    while i * i <= n:\n",
        "        if n % i == 0:\n",
        "            return False\n",
        "        i += 1\n",
        "    return True\n",
        "\n",
        "N = int(input(\"Ingrese un número para verificar si es primo: \"))\n",
        "\n",
        "\n",
        "if es_primo(N):\n",
        "    print(f\"El número {N} es primo.\")\n",
        "else:\n",
        "    print(f\"El número {N} no es primo.\")"
      ]
    },
    {
      "cell_type": "code",
      "source": [
        "#Para\n",
        "def es_primo(n):\n",
        "    if n < 2:\n",
        "        return False\n",
        "    for i in range(2, int(n**0.5) + 1):\n",
        "        if n % i == 0:\n",
        "            return False\n",
        "    return True\n",
        "\n",
        "\n",
        "N = int(input(\"Ingrese un número para verificar si es primo: \"))\n",
        "\n",
        "\n",
        "if es_primo(N):\n",
        "    print(f\"El número {N} es primo.\")\n",
        "else:\n",
        "    print(f\"El número {N} no es primo.\")"
      ],
      "metadata": {
        "colab": {
          "base_uri": "https://localhost:8080/"
        },
        "id": "OpX-OJx-piV3",
        "outputId": "176de038-cca5-4e5d-c75e-31420c887294"
      },
      "execution_count": null,
      "outputs": [
        {
          "output_type": "stream",
          "name": "stdout",
          "text": [
            "Ingrese un número para verificar si es primo: 8\n",
            "El número 8 no es primo.\n"
          ]
        }
      ]
    },
    {
      "cell_type": "code",
      "source": [
        "#Mientras\n",
        "def fibonacci_while():\n",
        "    a, b = 0, 1\n",
        "    count = 0\n",
        "    fibonacci_nums = []\n",
        "\n",
        "    while count < 30:\n",
        "        fibonacci_nums.append(a)\n",
        "        a, b = b, a + b\n",
        "        count += 1\n",
        "\n",
        "    return fibonacci_nums\n",
        "\n",
        "numeros_fibonacci = fibonacci_while()\n",
        "\n",
        "print(\"Los 30 primeros números de Fibonacci (usando while) son:\")\n",
        "for i, num in enumerate(numeros_fibonacci, start=1):\n",
        "    print(f\"{i}. {num}\")"
      ],
      "metadata": {
        "colab": {
          "base_uri": "https://localhost:8080/"
        },
        "id": "Nlu2hw36qfBc",
        "outputId": "352f00f7-7d95-44c3-cf16-87b49bb2fc65"
      },
      "execution_count": null,
      "outputs": [
        {
          "output_type": "stream",
          "name": "stdout",
          "text": [
            "Los 30 primeros números de Fibonacci (usando while) son:\n",
            "1. 0\n",
            "2. 1\n",
            "3. 1\n",
            "4. 2\n",
            "5. 3\n",
            "6. 5\n",
            "7. 8\n",
            "8. 13\n",
            "9. 21\n",
            "10. 34\n",
            "11. 55\n",
            "12. 89\n",
            "13. 144\n",
            "14. 233\n",
            "15. 377\n",
            "16. 610\n",
            "17. 987\n",
            "18. 1597\n",
            "19. 2584\n",
            "20. 4181\n",
            "21. 6765\n",
            "22. 10946\n",
            "23. 17711\n",
            "24. 28657\n",
            "25. 46368\n",
            "26. 75025\n",
            "27. 121393\n",
            "28. 196418\n",
            "29. 317811\n",
            "30. 514229\n"
          ]
        }
      ]
    },
    {
      "cell_type": "code",
      "source": [
        "#Para\n",
        "def fibonacci_for():\n",
        "\n",
        "    fibonacci_nums = [0, 1]\n",
        "\n",
        "\n",
        "    for _ in range(28):\n",
        "        fibonacci_nums.append(fibonacci_nums[-1] + fibonacci_nums[-2])\n",
        "\n",
        "    return fibonacci_nums\n",
        "\n",
        "\n",
        "numeros_fibonacci = fibonacci_for()\n",
        "\n",
        "\n",
        "print(\"Los 30 primeros números de Fibonacci (usando for) son:\")\n",
        "for i, num in enumerate(numeros_fibonacci, start=1):\n",
        "    print(f\"{i}. {num}\")"
      ],
      "metadata": {
        "colab": {
          "base_uri": "https://localhost:8080/"
        },
        "id": "4t2S5kM0raDK",
        "outputId": "94b9d77f-7151-4bc8-f5a1-878adcbbcc1e"
      },
      "execution_count": null,
      "outputs": [
        {
          "output_type": "stream",
          "name": "stdout",
          "text": [
            "Los 30 primeros números de Fibonacci (usando for) son:\n",
            "1. 0\n",
            "2. 1\n",
            "3. 1\n",
            "4. 2\n",
            "5. 3\n",
            "6. 5\n",
            "7. 8\n",
            "8. 13\n",
            "9. 21\n",
            "10. 34\n",
            "11. 55\n",
            "12. 89\n",
            "13. 144\n",
            "14. 233\n",
            "15. 377\n",
            "16. 610\n",
            "17. 987\n",
            "18. 1597\n",
            "19. 2584\n",
            "20. 4181\n",
            "21. 6765\n",
            "22. 10946\n",
            "23. 17711\n",
            "24. 28657\n",
            "25. 46368\n",
            "26. 75025\n",
            "27. 121393\n",
            "28. 196418\n",
            "29. 317811\n",
            "30. 514229\n"
          ]
        }
      ]
    },
    {
      "cell_type": "code",
      "source": [
        "#Mientras\n",
        "def factorial_while(n):\n",
        "    resultado = 1\n",
        "    i = 1\n",
        "    while i <= n:\n",
        "        resultado *= i\n",
        "        i += 1\n",
        "    return resultado\n",
        "\n",
        "\n",
        "N = int(input(\"Ingrese un número para calcular su factorial: \"))\n",
        "\n",
        "resultado = factorial_while(N)\n",
        "print(f\"El factorial de {N} es: {resultado}\")"
      ],
      "metadata": {
        "colab": {
          "base_uri": "https://localhost:8080/"
        },
        "id": "9ZV0jpdRrmVQ",
        "outputId": "63780cf8-b4b5-400d-b85a-ceee85ee804e"
      },
      "execution_count": null,
      "outputs": [
        {
          "output_type": "stream",
          "name": "stdout",
          "text": [
            "Ingrese un número para calcular su factorial: 8\n",
            "El factorial de 8 es: 40320\n"
          ]
        }
      ]
    },
    {
      "cell_type": "code",
      "source": [
        "#Para\n",
        "def factorial_for(n):\n",
        "    resultado = 1\n",
        "    for i in range(1, n + 1):\n",
        "        resultado *= i\n",
        "    return resultado\n",
        "\n",
        "\n",
        "N = int(input(\"Ingrese un número para calcular su factorial: \"))\n",
        "\n",
        "\n",
        "resultado = factorial_for(N)\n",
        "print(f\"El factorial de {N} es: {resultado}\")"
      ],
      "metadata": {
        "colab": {
          "base_uri": "https://localhost:8080/"
        },
        "id": "YvZ97ok6sGfr",
        "outputId": "65b10d72-7263-4777-8c57-2ff966512be2"
      },
      "execution_count": null,
      "outputs": [
        {
          "output_type": "stream",
          "name": "stdout",
          "text": [
            "Ingrese un número para calcular su factorial: 258\n",
            "El factorial de 258 es: 56878465411882525024019869106095810443711861483651573510414327553915228320989004061260555958946091088710623453508969559004059093321200238492719713563110330058714032972946730753868022316902240107823463759719680928160493952481819610819007374844441824697652051115339179081141100212631179271854890626131975300539844183321097520081102320544748815063511124295784925759777654006636479482711740126764956099108357637301664918401416624491645555527002584252416000000000000000000000000000000000000000000000000000000000000000\n"
          ]
        }
      ]
    },
    {
      "cell_type": "code",
      "source": [
        "def factorial_while(n):\n",
        "    resultado = 1\n",
        "    i = 1\n",
        "    while i <= n:\n",
        "        resultado *= i\n",
        "        i += 1\n",
        "    return resultado\n",
        "\n",
        "contador = 0\n",
        "while contador < 10:\n",
        "    num = int(input(f\"Ingrese el número {contador + 1}: \"))\n",
        "    fact = factorial_while(num)\n",
        "    print(f\"El factorial de {num} es: {fact}\")\n",
        "    contador += 1"
      ],
      "metadata": {
        "colab": {
          "base_uri": "https://localhost:8080/"
        },
        "id": "fQSWbcHhsuYj",
        "outputId": "926326d8-a450-4ec9-f1d6-04c5d812adda"
      },
      "execution_count": null,
      "outputs": [
        {
          "output_type": "stream",
          "name": "stdout",
          "text": [
            "Ingrese el número 1: 1\n",
            "El factorial de 1 es: 1\n",
            "Ingrese el número 2: 2\n",
            "El factorial de 2 es: 2\n",
            "Ingrese el número 3: 3\n",
            "El factorial de 3 es: 6\n",
            "Ingrese el número 4: 5\n",
            "El factorial de 5 es: 120\n",
            "Ingrese el número 5: 6\n",
            "El factorial de 6 es: 720\n",
            "Ingrese el número 6: 7\n",
            "El factorial de 7 es: 5040\n",
            "Ingrese el número 7: 8\n",
            "El factorial de 8 es: 40320\n",
            "Ingrese el número 8: 9\n",
            "El factorial de 9 es: 362880\n",
            "Ingrese el número 9: 10\n",
            "El factorial de 10 es: 3628800\n",
            "Ingrese el número 10: 11\n",
            "El factorial de 11 es: 39916800\n"
          ]
        }
      ]
    },
    {
      "cell_type": "code",
      "source": [
        "def factorial_for(n):\n",
        "    resultado = 1\n",
        "    for i in range(1, n + 1):\n",
        "        resultado *= i\n",
        "    return resultado\n",
        "\n",
        "for i in range(10):\n",
        "    num = int(input(f\"Ingrese el número {i + 1}: \"))\n",
        "    fact = factorial_for(num)\n",
        "    print(f\"El factorial de {num} es: {fact}\")"
      ],
      "metadata": {
        "collapsed": true,
        "id": "3AjEIJthsttd",
        "colab": {
          "base_uri": "https://localhost:8080/"
        },
        "outputId": "63855736-bbe5-4ac9-9eff-7f974dd740cc"
      },
      "execution_count": null,
      "outputs": [
        {
          "output_type": "stream",
          "name": "stdout",
          "text": [
            "Ingrese el número 1: 1\n",
            "El factorial de 1 es: 1\n",
            "Ingrese el número 2: 2\n",
            "El factorial de 2 es: 2\n",
            "Ingrese el número 3: 3\n",
            "El factorial de 3 es: 6\n",
            "Ingrese el número 4: 5\n",
            "El factorial de 5 es: 120\n",
            "Ingrese el número 5: 6\n",
            "El factorial de 6 es: 720\n",
            "Ingrese el número 6: 5\n",
            "El factorial de 5 es: 120\n",
            "Ingrese el número 7: 4\n",
            "El factorial de 4 es: 24\n",
            "Ingrese el número 8: 2\n",
            "El factorial de 2 es: 2\n",
            "Ingrese el número 9: 5\n",
            "El factorial de 5 es: 120\n",
            "Ingrese el número 10: 12\n",
            "El factorial de 12 es: 479001600\n"
          ]
        }
      ]
    },
    {
      "cell_type": "code",
      "source": [
        "contador = 0\n",
        "mayor = float('-inf')\n",
        "menor = float('inf')\n",
        "\n",
        "while contador < 20:\n",
        "    num = float(input(f\"Ingrese el número {contador + 1}: \"))\n",
        "    if num > mayor:\n",
        "        mayor = num\n",
        "    if num < menor:\n",
        "        menor = num\n",
        "    contador += 1\n",
        "\n",
        "print(f\"El mayor valor leído es: {mayor}\")\n",
        "print(f\"El menor valor leído es: {menor}\")"
      ],
      "metadata": {
        "id": "nBd1Y5gLsyrR",
        "colab": {
          "base_uri": "https://localhost:8080/"
        },
        "outputId": "d988fdfe-df18-4586-e8ed-7f4003a18a96"
      },
      "execution_count": null,
      "outputs": [
        {
          "output_type": "stream",
          "name": "stdout",
          "text": [
            "Ingrese el número 1: 8\n",
            "Ingrese el número 2: 7\n",
            "Ingrese el número 3: 5\n",
            "Ingrese el número 4: 7\n",
            "Ingrese el número 5: 5\n",
            "Ingrese el número 6: 2\n",
            "Ingrese el número 7: 1\n",
            "Ingrese el número 8: 2\n",
            "Ingrese el número 9: 8\n",
            "Ingrese el número 10: 9\n",
            "Ingrese el número 11: 7\n",
            "Ingrese el número 12: 25\n",
            "Ingrese el número 13: 7\n",
            "Ingrese el número 14: 9\n",
            "Ingrese el número 15: 7\n",
            "Ingrese el número 16: 5\n",
            "Ingrese el número 17: 8\n",
            "Ingrese el número 18: 13\n",
            "Ingrese el número 19: 19\n",
            "Ingrese el número 20: 20\n",
            "El mayor valor leído es: 25.0\n",
            "El menor valor leído es: 1.0\n"
          ]
        }
      ]
    },
    {
      "cell_type": "code",
      "source": [
        "mayor = float('-inf')\n",
        "menor = float('inf')\n",
        "\n",
        "for i in range(20):\n",
        "    num = float(input(f\"Ingrese el número {i + 1}: \"))\n",
        "    if num > mayor:\n",
        "        mayor = num\n",
        "    if num < menor:\n",
        "        menor = num\n",
        "\n",
        "print(f\"El mayor valor leído es: {mayor}\")\n",
        "print(f\"El menor valor leído es: {menor}\")"
      ],
      "metadata": {
        "id": "t03UiI85tt5x",
        "colab": {
          "base_uri": "https://localhost:8080/"
        },
        "outputId": "2b3d8cff-0ce5-4a1a-b13a-249f170a2a64"
      },
      "execution_count": null,
      "outputs": [
        {
          "output_type": "stream",
          "name": "stdout",
          "text": [
            "Ingrese el número 1: 8\n",
            "Ingrese el número 2: 4\n",
            "Ingrese el número 3: 7\n",
            "Ingrese el número 4: 2\n",
            "Ingrese el número 5: 8\n",
            "Ingrese el número 6: 1\n",
            "Ingrese el número 7: 2\n",
            "Ingrese el número 8: 3\n",
            "Ingrese el número 9: 4\n",
            "Ingrese el número 10: 5\n",
            "Ingrese el número 11: 6\n",
            "Ingrese el número 12: 7\n",
            "Ingrese el número 13: 8\n",
            "Ingrese el número 14: 9\n",
            "Ingrese el número 15: 10\n",
            "Ingrese el número 16: 11\n",
            "Ingrese el número 17: 12\n",
            "Ingrese el número 18: 13\n",
            "Ingrese el número 19: 14\n",
            "Ingrese el número 20: 15\n",
            "El mayor valor leído es: 15.0\n",
            "El menor valor leído es: 1.0\n"
          ]
        }
      ]
    },
    {
      "cell_type": "code",
      "source": [
        "while True:\n",
        "    num = int(input(\"Ingrese un número entre 1 y 10: \"))\n",
        "    if 1 <= num <= 10:\n",
        "        break\n",
        "    print(\"Número fuera de rango. Intente nuevamente.\")\n",
        "\n",
        "i = 1\n",
        "while i <= 10:\n",
        "    print(f\"{num} x {i} = {num * i}\")\n",
        "    i += 1"
      ],
      "metadata": {
        "id": "FtnSS28gtuuz",
        "colab": {
          "base_uri": "https://localhost:8080/"
        },
        "outputId": "8c6d52fa-5caa-4fca-f6ef-059cfd5678e1"
      },
      "execution_count": null,
      "outputs": [
        {
          "output_type": "stream",
          "name": "stdout",
          "text": [
            "Ingrese un número entre 1 y 10: 5\n",
            "5 x 1 = 5\n",
            "5 x 2 = 10\n",
            "5 x 3 = 15\n",
            "5 x 4 = 20\n",
            "5 x 5 = 25\n",
            "5 x 6 = 30\n",
            "5 x 7 = 35\n",
            "5 x 8 = 40\n",
            "5 x 9 = 45\n",
            "5 x 10 = 50\n"
          ]
        }
      ]
    },
    {
      "cell_type": "code",
      "source": [
        "while True:\n",
        "    num = int(input(\"Ingrese un número entre 1 y 10: \"))\n",
        "    if 1 <= num <= 10:\n",
        "        break\n",
        "    print(\"Número fuera de rango. Intente nuevamente.\")\n",
        "\n",
        "for i in range(1, 11):\n",
        "    print(f\"{num} x {i} = {num * i}\")"
      ],
      "metadata": {
        "id": "EAW0_2w0t13w",
        "colab": {
          "base_uri": "https://localhost:8080/"
        },
        "outputId": "2178ed68-67cd-4dfa-add0-e8771f9159db"
      },
      "execution_count": null,
      "outputs": [
        {
          "output_type": "stream",
          "name": "stdout",
          "text": [
            "Ingrese un número entre 1 y 10: 8\n",
            "8 x 1 = 8\n",
            "8 x 2 = 16\n",
            "8 x 3 = 24\n",
            "8 x 4 = 32\n",
            "8 x 5 = 40\n",
            "8 x 6 = 48\n",
            "8 x 7 = 56\n",
            "8 x 8 = 64\n",
            "8 x 9 = 72\n",
            "8 x 10 = 80\n"
          ]
        }
      ]
    },
    {
      "cell_type": "code",
      "source": [
        "suma = 0\n",
        "num = 100\n",
        "\n",
        "while num >= 0:\n",
        "    suma += num\n",
        "    num -= 10\n",
        "\n",
        "print(f\"La suma es: {suma}\")"
      ],
      "metadata": {
        "id": "EYZnuPpjt6Ha",
        "colab": {
          "base_uri": "https://localhost:8080/"
        },
        "outputId": "675f9875-cc17-49a6-b7ea-a8967fea33d6"
      },
      "execution_count": null,
      "outputs": [
        {
          "output_type": "stream",
          "name": "stdout",
          "text": [
            "La suma es: 550\n"
          ]
        }
      ]
    },
    {
      "cell_type": "code",
      "source": [
        "N = int(input(\"Ingrese un número entero N: \"))\n",
        "suma = 0\n",
        "i = 1\n",
        "\n",
        "while i <= N:\n",
        "    if i % 2 == 1:\n",
        "        suma += 1/i\n",
        "    else:\n",
        "        suma -= 1/i\n",
        "    i += 1\n",
        "\n",
        "print(f\"El resultado de la serie es: {suma}\")"
      ],
      "metadata": {
        "id": "B634OKiGuHKS",
        "colab": {
          "base_uri": "https://localhost:8080/"
        },
        "outputId": "b7c4ca14-06cb-4930-fce3-6913944be939"
      },
      "execution_count": null,
      "outputs": [
        {
          "output_type": "stream",
          "name": "stdout",
          "text": [
            "Ingrese un número entero N: 7\n",
            "El resultado de la serie es: 0.7595238095238095\n"
          ]
        }
      ]
    },
    {
      "cell_type": "code",
      "source": [
        "suma = sum(range(0, 101, 10))\n",
        "print(f\"La suma es: {suma}\")"
      ],
      "metadata": {
        "id": "EXiW2jyNt_Da",
        "colab": {
          "base_uri": "https://localhost:8080/"
        },
        "outputId": "298ee5aa-9ffe-4d87-dc8c-f0e214982cc3"
      },
      "execution_count": null,
      "outputs": [
        {
          "output_type": "stream",
          "name": "stdout",
          "text": [
            "La suma es: 550\n"
          ]
        }
      ]
    },
    {
      "cell_type": "code",
      "source": [
        "N = int(input(\"Ingrese un número entero N: \"))\n",
        "suma = 0\n",
        "i = 1\n",
        "\n",
        "while i <= N:\n",
        "    if i % 2 == 1:\n",
        "        suma += 1/i\n",
        "    else:\n",
        "        suma -= 1/i\n",
        "    i += 1\n",
        "\n",
        "print(f\"El resultado de la serie es: {suma}\")"
      ],
      "metadata": {
        "id": "tAacYU62uIG7",
        "colab": {
          "base_uri": "https://localhost:8080/"
        },
        "outputId": "61b3c2f6-4152-4e5d-ecc5-d67e2915f1cd"
      },
      "execution_count": null,
      "outputs": [
        {
          "output_type": "stream",
          "name": "stdout",
          "text": [
            "Ingrese un número entero N: 8\n",
            "El resultado de la serie es: 0.6345238095238095\n"
          ]
        }
      ]
    },
    {
      "cell_type": "code",
      "source": [
        "N = int(input(\"Ingrese un número entero N: \"))\n",
        "suma = sum((-1)**(i+1) * (1/i) for i in range(1, N+1))\n",
        "\n",
        "print(f\"El resultado de la serie es: {suma}\")"
      ],
      "metadata": {
        "id": "edBL2M6rubF-",
        "colab": {
          "base_uri": "https://localhost:8080/"
        },
        "outputId": "8a282d38-0e2b-4ee3-b60d-9f10adae05c0"
      },
      "execution_count": null,
      "outputs": [
        {
          "output_type": "stream",
          "name": "stdout",
          "text": [
            "Ingrese un número entero N: 78\n",
            "El resultado de la serie es: 0.6867780121610392\n"
          ]
        }
      ]
    },
    {
      "cell_type": "code",
      "source": [
        "N = int(input(\"Ingrese un número entero N: \"))\n",
        "suma = 0\n",
        "numerador = 2\n",
        "denominador = 1\n",
        "contador = 0\n",
        "\n",
        "while contador < N:\n",
        "    suma += numerador / denominador\n",
        "    numerador += 2\n",
        "    denominador += 2\n",
        "    contador += 1\n",
        "\n",
        "print(f\"El resultado de la serie hasta {N} valores es: {suma}\")"
      ],
      "metadata": {
        "id": "4qrDt2Otulyh",
        "colab": {
          "base_uri": "https://localhost:8080/"
        },
        "outputId": "baa5decc-de75-4164-fdab-c56fc2c65173"
      },
      "execution_count": null,
      "outputs": [
        {
          "output_type": "stream",
          "name": "stdout",
          "text": [
            "Ingrese un número entero N: 15\n",
            "El resultado de la serie hasta 15 valores es: 17.335872634305893\n"
          ]
        }
      ]
    },
    {
      "cell_type": "code",
      "source": [
        "N = int(input(\"Ingrese un número entero N: \"))\n",
        "suma = sum((2*i) / (2*i - 1) for i in range(1, N+1))\n",
        "\n",
        "print(f\"El resultado de la serie hasta {N} valores es: {suma}\")"
      ],
      "metadata": {
        "id": "k4PfjHjiumw3",
        "colab": {
          "base_uri": "https://localhost:8080/"
        },
        "outputId": "2e334618-779d-4ef6-89cc-6789198487e5"
      },
      "execution_count": null,
      "outputs": [
        {
          "output_type": "stream",
          "name": "stdout",
          "text": [
            "Ingrese un número entero N: 12\n",
            "El resultado de la serie hasta 12 valores es: 14.224352838648166\n"
          ]
        }
      ]
    },
    {
      "cell_type": "code",
      "source": [
        "producto = 1\n",
        "while True:\n",
        "    num = int(input(\"Ingrese un número (fuera del rango 1-10 para terminar): \"))\n",
        "    if num < 1 or num > 10:\n",
        "        break\n",
        "    producto *= num\n",
        "\n",
        "print(f\"El producto de los números en rango es: {producto}\")"
      ],
      "metadata": {
        "id": "CEV00Yw3uqdz",
        "colab": {
          "base_uri": "https://localhost:8080/"
        },
        "outputId": "3904e239-ca39-416b-e3b5-36cffd8162fd"
      },
      "execution_count": null,
      "outputs": [
        {
          "output_type": "stream",
          "name": "stdout",
          "text": [
            "Ingrese un número (fuera del rango 1-10 para terminar): 16\n",
            "El producto de los números en rango es: 1\n"
          ]
        }
      ]
    },
    {
      "cell_type": "code",
      "source": [
        "producto = 1\n",
        "for _ in range(1000):  # Un límite arbitrario alto\n",
        "    num = int(input(\"Ingrese un número (fuera del rango 1-10 para terminar): \"))\n",
        "    if num < 1 or num > 10:\n",
        "        break\n",
        "    producto *= num\n",
        "\n",
        "print(f\"El producto de los números en rango es: {producto}\")"
      ],
      "metadata": {
        "id": "CI98DAZMutoY",
        "colab": {
          "base_uri": "https://localhost:8080/"
        },
        "outputId": "93119a47-d200-487c-9552-8c229852985d"
      },
      "execution_count": null,
      "outputs": [
        {
          "output_type": "stream",
          "name": "stdout",
          "text": [
            "Ingrese un número (fuera del rango 1-10 para terminar): 25\n",
            "El producto de los números en rango es: 1\n"
          ]
        }
      ]
    },
    {
      "cell_type": "code",
      "source": [
        "def calcular_suma():\n",
        "  suma=0\n",
        "  i=100\n",
        "  while i >=0:\n",
        "    suma+=i\n",
        "    print(f\"Sumando: {i}, suma acmulada. {suma}\")\n",
        "    i-=10\n",
        "  return suma\n",
        "    resultado = calcular_suma()\n",
        "    print(f\"El resultado se la suma es : {resultado}\")"
      ],
      "metadata": {
        "colab": {
          "base_uri": "https://localhost:8080/",
          "height": 106
        },
        "id": "qUOzeaVONQ3p",
        "outputId": "255fa324-bd7c-43c3-e9c9-e5b8d6df7013"
      },
      "execution_count": null,
      "outputs": [
        {
          "output_type": "error",
          "ename": "IndentationError",
          "evalue": "unexpected indent (<ipython-input-1-803eccb24ed3>, line 9)",
          "traceback": [
            "\u001b[0;36m  File \u001b[0;32m\"<ipython-input-1-803eccb24ed3>\"\u001b[0;36m, line \u001b[0;32m9\u001b[0m\n\u001b[0;31m    resultado = calcular_suma()\u001b[0m\n\u001b[0m    ^\u001b[0m\n\u001b[0;31mIndentationError\u001b[0m\u001b[0;31m:\u001b[0m unexpected indent\n"
          ]
        }
      ]
    },
    {
      "cell_type": "code",
      "source": [],
      "metadata": {
        "id": "NRkhO0oLWYCk"
      },
      "execution_count": null,
      "outputs": []
    }
  ]
}