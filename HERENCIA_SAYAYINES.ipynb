{
  "nbformat": 4,
  "nbformat_minor": 0,
  "metadata": {
    "colab": {
      "provenance": []
    },
    "kernelspec": {
      "name": "python3",
      "display_name": "Python 3"
    },
    "language_info": {
      "name": "python"
    }
  },
  "cells": [
    {
      "cell_type": "markdown",
      "source": [
        "#1.. Exposición Herencia\n",
        "- Diapositivas : https://www.canva.com/design/DAGSW34YeXE/EJ0biUi9zA9EFhiBgEzC3w/edit?utm_content=DAGSW34YeXE&utm_campaign=designshare&utm_medium=link2&utm_source=sharebutton\n",
        "- Codigo\n",
        "- estructura de la presentacion:\n",
        "ESTRUCTURA DE LA CLASE\n",
        "\n",
        "1.\tEntramos al salón de clase\n",
        "2.\tProyectamos el material de apoyo\n",
        "3.\tEmpezamos nuestra clase explicando todo el contenido:\n",
        "•\tQue es la herencia orientada a objetos?\n",
        "•\tVentajas\n",
        "•\tDesventajas\n",
        "•\tTipos de herencia\n",
        "•\tUso de super() para llamar métodos de la superclase llamada a métodos de la clase base.\n",
        "•\tClases abstractas e interfaces\n",
        "4.\tPresentamos un video\n",
        "5.\tPor ultimo Decimos la conclusión de nuestra clase\n",
        "\n",
        "---\n",
        "\n"
      ],
      "metadata": {
        "id": "pnHhAJlunIZk"
      }
    },
    {
      "cell_type": "code",
      "source": [
        "#HERENCIA\n",
        "class Animal:\n",
        "    def hacer_sonido(self):\n",
        "        return \"Sonido genérico\"\n",
        "\n",
        "    def correr(self):\n",
        "      return \"puedo correr\"\n",
        "\n",
        "class Perro(Animal):\n",
        "    def hacer_sonido(self):\n",
        "        return \"¡Guau!\"\n",
        "\n",
        "class Gato(Animal):\n",
        "    def hacer_sonido(self):\n",
        "        return \"¡Miau!\"\n",
        "def main():\n",
        "    perro = Perro()\n",
        "    gato = Gato()\n",
        "\n",
        "    print(perro.hacer_sonido())  # Salida: ¡Guau!\n",
        "    print(gato.hacer_sonido())    # Salida: ¡Miau!\n",
        "    print(perro.correr())\n",
        "\n",
        "if __name__ == \"__main__\":\n",
        "    main()\n"
      ],
      "metadata": {
        "colab": {
          "base_uri": "https://localhost:8080/"
        },
        "id": "D2yvizK5eV9x",
        "outputId": "b28cf90b-b16f-4a21-bdd8-52d81a42bb3d"
      },
      "execution_count": 8,
      "outputs": [
        {
          "output_type": "stream",
          "name": "stdout",
          "text": [
            "¡Guau!\n",
            "¡Miau!\n",
            "puedo correr\n"
          ]
        }
      ]
    },
    {
      "cell_type": "code",
      "source": [
        "class Saiyajin:\n",
        "    def __init__(self, nombre, poder_base):\n",
        "        self.nombre = nombre\n",
        "        self.poder_base = poder_base\n",
        "\n",
        "    def transformar(self):\n",
        "        return f\"{self.nombre} se está transformando...\"\n",
        "\n",
        "    def mostrar_poder(self):\n",
        "        return f\"Poder de {self.nombre}: {self.poder_base}\"\n",
        "\n",
        "class SaiyajinNormal(Saiyajin):\n",
        "    def __init__(self, nombre, poder_base):\n",
        "        super().__init__(nombre, poder_base)\n",
        "\n",
        "    def transformar(self):\n",
        "        return super().transformar() + \" (Saiyajin Normal)\"\n",
        "\n",
        "class SuperSaiyajin(Saiyajin):\n",
        "    def __init__(self, nombre, poder_base):\n",
        "        super().__init__(nombre, poder_base)\n",
        "\n",
        "    def transformar(self):\n",
        "        poder_transformado = self.poder_base * 50\n",
        "        return f\"{self.nombre} se transforma en Super Saiyajin! Poder: {poder_transformado}\"\n",
        "\n",
        "if __name__ == \"__main__\":\n",
        "    goku = SaiyajinNormal(\"Goku\", 9000)\n",
        "    vegeta = SuperSaiyajin(\"Vegeta\", 8500)\n",
        "\n",
        "    print(goku.mostrar_poder())\n",
        "    print(goku.transformar())\n",
        "\n",
        "    print(vegeta.mostrar_poder())\n",
        "    print(vegeta.transformar())\n"
      ],
      "metadata": {
        "colab": {
          "base_uri": "https://localhost:8080/"
        },
        "id": "55DWCLIWgzGC",
        "outputId": "26fb5fae-fae7-452f-a2ed-0d57ece53658"
      },
      "execution_count": 10,
      "outputs": [
        {
          "output_type": "stream",
          "name": "stdout",
          "text": [
            "Poder de Goku: 9000\n",
            "Goku se está transformando... (Saiyajin Normal)\n",
            "Poder de Vegeta: 8500\n",
            "Vegeta se transforma en Super Saiyajin! Poder: 425000\n"
          ]
        }
      ]
    }
  ]
}